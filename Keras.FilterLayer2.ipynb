{
 "cells": [
  {
   "cell_type": "code",
   "execution_count": 1,
   "metadata": {},
   "outputs": [
    {
     "name": "stderr",
     "output_type": "stream",
     "text": [
      "Using TensorFlow backend.\n"
     ]
    },
    {
     "name": "stdout",
     "output_type": "stream",
     "text": [
      "2.2.0\n"
     ]
    }
   ],
   "source": [
    "import keras\n",
    "import numpy as np\n",
    "print (keras.__version__)"
   ]
  },
  {
   "cell_type": "code",
   "execution_count": 2,
   "metadata": {},
   "outputs": [
    {
     "name": "stdout",
     "output_type": "stream",
     "text": [
      "1.9.0\n"
     ]
    }
   ],
   "source": [
    "import tensorflow as tf\n",
    "print (tf.__version__)"
   ]
  },
  {
   "cell_type": "code",
   "execution_count": 3,
   "metadata": {},
   "outputs": [],
   "source": [
    "\n",
    "\n",
    "from keras import backend as K\n",
    "from keras.layers import Input, Dense\n",
    "from keras.models import Model\n",
    "from keras.engine.topology import Layer\n",
    "from keras.optimizers import RMSprop\n",
    "import numpy as np\n",
    "\n",
    "class MyLayer(Layer):\n",
    "\n",
    "    def __init__(self,output_dim,thre, **kwargs):\n",
    "        self.output_dim = output_dim\n",
    "        self.threshold=thre\n",
    "        super(MyLayer, self).__init__(**kwargs)\n",
    "\n",
    "    def build(self, input_shape):\n",
    "        # Create a trainable weight variable for this layer.\n",
    "        #self.kernel = self.add_weight(name='kernel', shape=(input_shape[1], self.output_dim),initializer='uniform',trainable=True)\n",
    "        super(MyLayer, self).build(input_shape)  # Be sure to call this at the end\n",
    "\n",
    "    def getPaddedFilter(self,myfilter,padNumOfOnes):\n",
    "        numRow = K.shape(myfilter)[0]\n",
    "        \n",
    "        pad = K.ones((numRow,padNumOfOnes))\n",
    "        \n",
    "        myfilter2=K.concatenate( [pad, myfilter],axis=1)\n",
    "        \n",
    "        return myfilter2\n",
    "        \n",
    "    def call(self, x):\n",
    "        myfilter = x[1]\n",
    "        value = x[0]\n",
    "        \n",
    "        inputDim=K.shape(value)[-1]\n",
    "        filterDim = K.shape(myfilter)[-1]\n",
    "        \n",
    "        #if inputDim > filterDim, pad 1 on the left of filter\n",
    "        padDim = K.switch(K.less(filterDim,inputDim),inputDim-filterDim,0 )\n",
    "        myfilter=self.getPaddedFilter(myfilter,padDim)\n",
    "        #if inputDim < filterDim, shift filter left \n",
    "        shiftLeft = K.switch(K.greater(filterDim,inputDim) ,filterDim-inputDim,0)\n",
    "        myfilter2 = myfilter[:,shiftLeft:]\n",
    "        \n",
    "        myfilter2=K.cast(myfilter2,\"float32\")\n",
    "        myfilter2=K.abs(myfilter2)\n",
    "        myfilter2=myfilter2>self.threshold\n",
    "        myfilter2=K.cast(myfilter2,\"float32\")\n",
    "        \n",
    "        #return padDim\n",
    "        return (value*myfilter2)\n",
    "        #return myfilter2\n",
    "\n",
    "    def get_config(self):\n",
    "        config = {'output_dim': self.output_dim, \n",
    "                  'thre': self.threshold}\n",
    "        base_config = super(MyLayer, self).get_config()\n",
    "        return dict(list(base_config.items()) + list(config.items()))\n",
    "    def compute_output_shape(self, input_shape):\n",
    "        return (input_shape[0], self.output_dim)\n",
    "    \n",
    "    \n",
    "    \n",
    "longestTenor=40    \n",
    "inputsize=7\n",
    "filtersize=inputsize\n",
    "outputsize=4\n",
    "inputs = Input(shape=(inputsize,))\n",
    "#mask=Input(shape=(filtersize,))\n",
    "x = Dense(10, activation=\"relu\",kernel_initializer=\"one\")(inputs)\n",
    "predict = Dense(inputsize, activation=\"relu\",kernel_initializer=\"one\")(x)\n",
    "predict = Dense(outputsize, activation=\"relu\",kernel_initializer=\"one\")(x)\n",
    "predict=MyLayer(outputsize,np.exp(-1*longestTenor).astype(\"float32\"))([predict,inputs])\n",
    "\n",
    "model = Model(inputs=inputs, outputs=predict)"
   ]
  },
  {
   "cell_type": "code",
   "execution_count": 4,
   "metadata": {},
   "outputs": [],
   "source": [
    "model.compile(optimizer=RMSprop(lr=0.01),loss=\"mse\",metrics=[\"mae\"])"
   ]
  },
  {
   "cell_type": "code",
   "execution_count": 5,
   "metadata": {},
   "outputs": [],
   "source": [
    "ii = np.array([[200,3,5,6,0,1,0]\n",
    "               ,[-1,2,0.0001,0,5,6,8]\n",
    "              ])\n",
    "output = np.ones(shape=(2,outputsize))"
   ]
  },
  {
   "cell_type": "code",
   "execution_count": 6,
   "metadata": {},
   "outputs": [],
   "source": [
    "callbackLst = [\n",
    "    keras.callbacks.TensorBoard(\n",
    "        log_dir='./model_log_dir/keraFilterLayer', #Log files will be written at this location.\n",
    "        histogram_freq=1, #Records activation histograms every 1 epoch R\n",
    "        \n",
    "    ),\n",
    "    keras.callbacks.ModelCheckpoint(\n",
    "            filepath='./modelTrain/modelkeraFilterLayer2',\n",
    "            monitor='val_loss',\n",
    "            save_best_only=True,\n",
    "    )\n",
    "]"
   ]
  },
  {
   "cell_type": "code",
   "execution_count": 7,
   "metadata": {},
   "outputs": [
    {
     "name": "stdout",
     "output_type": "stream",
     "text": [
      "Train on 1 samples, validate on 1 samples\n",
      "Epoch 1/5\n",
      "1/1 [==============================] - 0s 185ms/step - loss: 2309101.0000 - mean_absolute_error: 1075.0000 - val_loss: 28344.2383 - val_mean_absolute_error: 146.0343\n",
      "Epoch 2/5\n",
      "1/1 [==============================] - 0s 3ms/step - loss: 2029778.7500 - mean_absolute_error: 1007.9171 - val_loss: 27440.9688 - val_mean_absolute_error: 143.6609\n",
      "Epoch 3/5\n",
      "1/1 [==============================] - 0s 3ms/step - loss: 1852041.6250 - mean_absolute_error: 962.7996 - val_loss: 26726.5938 - val_mean_absolute_error: 141.7439\n",
      "Epoch 4/5\n",
      "1/1 [==============================] - 0s 3ms/step - loss: 1716258.1250 - mean_absolute_error: 926.8524 - val_loss: 26120.7324 - val_mean_absolute_error: 140.0890\n",
      "Epoch 5/5\n",
      "1/1 [==============================] - 0s 2ms/step - loss: 1604492.1250 - mean_absolute_error: 896.1818 - val_loss: 25586.8750 - val_mean_absolute_error: 138.6076\n"
     ]
    }
   ],
   "source": [
    "history = model.fit(x=ii,y=output,epochs=5,callbacks=callbackLst,validation_split=0.2)"
   ]
  },
  {
   "cell_type": "code",
   "execution_count": 19,
   "metadata": {},
   "outputs": [],
   "source": [
    "\n",
    "k=model.predict(ii.reshape(-1,inputsize))"
   ]
  },
  {
   "cell_type": "code",
   "execution_count": 20,
   "metadata": {},
   "outputs": [
    {
     "data": {
      "text/plain": [
       "array([[1738.0345  ,    0.      , 1738.0345  ,    0.      ],\n",
       "       [   0.      ,  111.949684,  100.581535,    0.      ]],\n",
       "      dtype=float32)"
      ]
     },
     "execution_count": 20,
     "metadata": {},
     "output_type": "execute_result"
    }
   ],
   "source": [
    "k"
   ]
  },
  {
   "cell_type": "code",
   "execution_count": 10,
   "metadata": {},
   "outputs": [
    {
     "name": "stdout",
     "output_type": "stream",
     "text": [
      "__________________________________________________________________________________________________\n",
      "Layer (type)                    Output Shape         Param #     Connected to                     \n",
      "==================================================================================================\n",
      "input_1 (InputLayer)            (None, 7)            0                                            \n",
      "__________________________________________________________________________________________________\n",
      "dense_1 (Dense)                 (None, 10)           80          input_1[0][0]                    \n",
      "__________________________________________________________________________________________________\n",
      "dense_3 (Dense)                 (None, 4)            44          dense_1[0][0]                    \n",
      "__________________________________________________________________________________________________\n",
      "my_layer_1 (MyLayer)            ((None, 4), 4)       0           dense_3[0][0]                    \n",
      "                                                                 input_1[0][0]                    \n",
      "==================================================================================================\n",
      "Total params: 124\n",
      "Trainable params: 124\n",
      "Non-trainable params: 0\n",
      "__________________________________________________________________________________________________\n"
     ]
    }
   ],
   "source": [
    "model.summary()"
   ]
  },
  {
   "cell_type": "code",
   "execution_count": 11,
   "metadata": {},
   "outputs": [],
   "source": [
    "from keras.models import load_model"
   ]
  },
  {
   "cell_type": "code",
   "execution_count": 12,
   "metadata": {},
   "outputs": [],
   "source": [
    "model2 = load_model('./modelTrain/modelkeraFilterLayer2',custom_objects={'MyLayer': MyLayer})"
   ]
  },
  {
   "cell_type": "code",
   "execution_count": 18,
   "metadata": {},
   "outputs": [
    {
     "data": {
      "text/plain": [
       "array([[1738.0345  ,    0.      , 1738.0345  ,    0.      ],\n",
       "       [   0.      ,  111.949684,  100.581535,    0.      ]],\n",
       "      dtype=float32)"
      ]
     },
     "execution_count": 18,
     "metadata": {},
     "output_type": "execute_result"
    }
   ],
   "source": [
    "ii = np.array([[200,3,5,6,0,1,0.00]\n",
    "               ,[-1,2,0.0001,0,5,6,0]\n",
    "              ])\n",
    "\n",
    "model2.predict(ii.reshape(-1,inputsize))"
   ]
  },
  {
   "cell_type": "code",
   "execution_count": null,
   "metadata": {},
   "outputs": [],
   "source": [
    "p=np.ones((2,0))\n",
    "v = np.random.randint(2,5,size=(2,3))\n",
    "np.concatenate([p,v],axis=1)[:,:10]"
   ]
  },
  {
   "cell_type": "code",
   "execution_count": null,
   "metadata": {},
   "outputs": [],
   "source": [
    "\n",
    "\n",
    "ii = np.array([[2,3,5,6,0,0,0],[1,2,3,4,5,6,7]])\n",
    "#mask_ = ii[:,inputsize-filtersize:]\n",
    "mask_ = np.concatenate( [ii, np.zeros((2,2))],axis=1)\n",
    "mask_"
   ]
  },
  {
   "cell_type": "code",
   "execution_count": null,
   "metadata": {},
   "outputs": [],
   "source": [
    "from keras.layers import Activation, Dense\n",
    "from keras.layers import Multiply\n",
    "class MaskedDenseLayer(Layer):\n",
    "    def __init__(self, output_dim, activation, **kwargs):\n",
    "        self.output_dim = output_dim\n",
    "        super(MaskedDenseLayer, self).__init__(**kwargs)\n",
    "        self._activation = Activation(activation)\n",
    "    def build(self, input_shape):\n",
    "        # Create a trainable weight variable for this layer.\n",
    "        self.kernel = self.add_weight(name='kernel', \n",
    "                                      shape=(input_shape[0][1], self.output_dim),\n",
    "                                      initializer='glorot_uniform',\n",
    "                                      trainable=True)\n",
    "        super(MaskedDenseLayer, self).build(input_shape)  # Be sure to call this somewhere!\n",
    "\n",
    "    def call(self, l):\n",
    "        self.x = l[0]\n",
    "        self._mask = l[1][1]\n",
    "        print('self._mask', self._mask)\n",
    "        kernel_shape = K.shape(self.kernel).eval(session=K.get_session())\n",
    "        \n",
    "        masked = Multiply()([self.kernel, self._mask])\n",
    "        self._output = K.dot(self.x, masked)\n",
    "        return self._activation(self._output)\n",
    "\n",
    "    \n",
    "    def compute_output_shape(self, input_shape):\n",
    "        return (input_shape[0][0], self.output_dim)"
   ]
  },
  {
   "cell_type": "code",
   "execution_count": null,
   "metadata": {},
   "outputs": [],
   "source": [
    "import numpy as np\n",
    "x = np.arange(1,10)"
   ]
  },
  {
   "cell_type": "code",
   "execution_count": null,
   "metadata": {},
   "outputs": [],
   "source": [
    "x[::-1]"
   ]
  }
 ],
 "metadata": {
  "kernelspec": {
   "display_name": "Python 3",
   "language": "python",
   "name": "python3"
  },
  "language_info": {
   "codemirror_mode": {
    "name": "ipython",
    "version": 3
   },
   "file_extension": ".py",
   "mimetype": "text/x-python",
   "name": "python",
   "nbconvert_exporter": "python",
   "pygments_lexer": "ipython3",
   "version": "3.5.2"
  }
 },
 "nbformat": 4,
 "nbformat_minor": 2
}
