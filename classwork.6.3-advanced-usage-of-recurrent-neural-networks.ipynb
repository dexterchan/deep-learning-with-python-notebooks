{
 "cells": [
  {
   "cell_type": "code",
   "execution_count": 1,
   "metadata": {},
   "outputs": [
    {
     "name": "stderr",
     "output_type": "stream",
     "text": [
      "Using TensorFlow backend.\n"
     ]
    },
    {
     "data": {
      "text/plain": [
       "'2.1.5'"
      ]
     },
     "execution_count": 1,
     "metadata": {},
     "output_type": "execute_result"
    }
   ],
   "source": [
    "import keras\n",
    "import numpy as np\n",
    "import pandas as pd\n",
    "keras.__version__"
   ]
  },
  {
   "cell_type": "markdown",
   "metadata": {},
   "source": [
    "# Advanced usage of recurrent neural networks\n",
    "\n",
    "This notebook contains the code samples found in Chapter 6, Section 3 of [Deep Learning with Python](https://www.manning.com/books/deep-learning-with-python?a_aid=keras&a_bid=76564dff). Note that the original text features far more content, in particular further explanations and figures: in this notebook, you will only find source code and related comments.\n",
    "\n",
    "---\n",
    "\n",
    "In this section, we will review three advanced techniques for improving the performance and generalization power of recurrent neural \n",
    "networks. By the end of the section, you will know most of what there is to know about using recurrent networks with Keras. We will \n",
    "demonstrate all three concepts on a weather forecasting problem, where we have access to a timeseries of data points coming from sensors \n",
    "installed on the roof of a building, such as temperature, air pressure, and humidity, which we use to predict what the temperature will be \n",
    "24 hours after the last data point collected. This is a fairly challenging problem that exemplifies many common difficulties encountered \n",
    "when working with timeseries.\n",
    "\n",
    "We will cover the following techniques:\n",
    "\n",
    "* *Recurrent dropout*, a specific, built-in way to use dropout to fight overfitting in recurrent layers.\n",
    "* *Stacking recurrent layers*, to increase the representational power of the network (at the cost of higher computational loads).\n",
    "* *Bidirectional recurrent layers*, which presents the same information to a recurrent network in different ways, increasing accuracy and \n",
    "mitigating forgetting issues."
   ]
  },
  {
   "cell_type": "markdown",
   "metadata": {},
   "source": [
    "## A temperature forecasting problem\n",
    "\n",
    "Until now, the only sequence data we have covered has been text data, for instance the IMDB dataset and the Reuters dataset. But sequence \n",
    "data is found in many more problems than just language processing. In all of our examples in this section, we will be playing with a weather \n",
    "timeseries dataset recorded at the Weather Station at the Max-Planck-Institute for Biogeochemistry in Jena, Germany: http://www.bgc-jena.mpg.de/wetter/.\n",
    "\n",
    "In this dataset, fourteen different quantities (such air temperature, atmospheric pressure, humidity, wind direction, etc.) are recorded \n",
    "every ten minutes, over several years. The original data goes back to 2003, but we limit ourselves to data from 2009-2016. This dataset is \n",
    "perfect for learning to work with numerical timeseries. We will use it to build a model that takes as input some data from the recent past (a \n",
    "few days worth of data points) and predicts the air temperature 24 hours in the future."
   ]
  },
  {
   "cell_type": "markdown",
   "metadata": {},
   "source": [
    "Let's take a look at the data:"
   ]
  },
  {
   "cell_type": "code",
   "execution_count": 2,
   "metadata": {},
   "outputs": [],
   "source": [
    "%%bash\n",
    "mkdir -p ./weatherdata"
   ]
  },
  {
   "cell_type": "code",
   "execution_count": 31,
   "metadata": {},
   "outputs": [],
   "source": [
    "import requests\n",
    "import zipfile\n",
    "\n",
    "baseurl=\"https://www.bgc-jena.mpg.de/wetter/mpi_roof_{0}.zip\"\n",
    "dateList=[]\n",
    "yearAnnual=[\"a\",\"b\"]\n",
    "\n",
    "for y in np.arange(2010,2017):\n",
    "    for ay in yearAnnual:\n",
    "        dateList.append(str(y) + ay)"
   ]
  },
  {
   "cell_type": "code",
   "execution_count": 32,
   "metadata": {},
   "outputs": [],
   "source": [
    "weather_dir=\"./weatherdata/\"\n",
    "weatherdata=pd.DataFrame()\n",
    "for period in dateList:\n",
    "    url = baseurl.format(period)\n",
    "    filename=url.split(\"/\")[-1]\n",
    "    r = requests.get(url, allow_redirects=True)\n",
    "    open(weather_dir+filename, 'wb').write(r.content)\n",
    "\n",
    "\n",
    "    with open(weather_dir+filename, 'rb') as f:\n",
    "            zf = zipfile.ZipFile(f)\n",
    "            zf.extractall(weather_dir)\n",
    "\n",
    "    newweatherdata= pd.read_csv( weather_dir+filename.replace(\".zip\",\".csv\"),encoding=\"cp850\")\n",
    "    weatherdata=weatherdata.append(newweatherdata)"
   ]
  },
  {
   "cell_type": "code",
   "execution_count": 33,
   "metadata": {},
   "outputs": [
    {
     "data": {
      "text/plain": [
       "(14,)"
      ]
     },
     "execution_count": 33,
     "metadata": {},
     "output_type": "execute_result"
    }
   ],
   "source": [
    "np.shape(dateList)"
   ]
  },
  {
   "cell_type": "code",
   "execution_count": 34,
   "metadata": {},
   "outputs": [
    {
     "data": {
      "text/plain": [
       "(367993, 22)"
      ]
     },
     "execution_count": 34,
     "metadata": {},
     "output_type": "execute_result"
    }
   ],
   "source": [
    "weatherdata.shape"
   ]
  },
  {
   "cell_type": "markdown",
   "metadata": {},
   "source": [
    "Let's convert all of these 420,551 lines of data into a Numpy array:"
   ]
  },
  {
   "cell_type": "code",
   "execution_count": 39,
   "metadata": {},
   "outputs": [],
   "source": [
    "float_data = weatherdata.iloc[:,1:].values"
   ]
  },
  {
   "cell_type": "code",
   "execution_count": 38,
   "metadata": {},
   "outputs": [
    {
     "data": {
      "text/html": [
       "<div>\n",
       "<style scoped>\n",
       "    .dataframe tbody tr th:only-of-type {\n",
       "        vertical-align: middle;\n",
       "    }\n",
       "\n",
       "    .dataframe tbody tr th {\n",
       "        vertical-align: top;\n",
       "    }\n",
       "\n",
       "    .dataframe thead th {\n",
       "        text-align: right;\n",
       "    }\n",
       "</style>\n",
       "<table border=\"1\" class=\"dataframe\">\n",
       "  <thead>\n",
       "    <tr style=\"text-align: right;\">\n",
       "      <th></th>\n",
       "      <th>p (mbar)</th>\n",
       "      <th>T (degC)</th>\n",
       "      <th>Tpot (K)</th>\n",
       "      <th>Tdew (degC)</th>\n",
       "      <th>rh (%)</th>\n",
       "      <th>VPmax (mbar)</th>\n",
       "      <th>VPact (mbar)</th>\n",
       "      <th>VPdef (mbar)</th>\n",
       "      <th>sh (g/kg)</th>\n",
       "      <th>H2OC (mmol/mol)</th>\n",
       "      <th>...</th>\n",
       "      <th>wv (m/s)</th>\n",
       "      <th>max. wv (m/s)</th>\n",
       "      <th>wd (deg)</th>\n",
       "      <th>rain (mm)</th>\n",
       "      <th>raining (s)</th>\n",
       "      <th>SWDR (W/m▓)</th>\n",
       "      <th>PAR (Ámol/m▓/s)</th>\n",
       "      <th>max. PAR (Ámol/m▓/s)</th>\n",
       "      <th>Tlog (degC)</th>\n",
       "      <th>CO2 (ppm)</th>\n",
       "    </tr>\n",
       "  </thead>\n",
       "  <tbody>\n",
       "    <tr>\n",
       "      <th>0</th>\n",
       "      <td>967.56</td>\n",
       "      <td>-2.84</td>\n",
       "      <td>272.89</td>\n",
       "      <td>-3.41</td>\n",
       "      <td>95.8</td>\n",
       "      <td>4.95</td>\n",
       "      <td>4.75</td>\n",
       "      <td>0.21</td>\n",
       "      <td>3.06</td>\n",
       "      <td>4.91</td>\n",
       "      <td>...</td>\n",
       "      <td>1.61</td>\n",
       "      <td>2.76</td>\n",
       "      <td>15.41</td>\n",
       "      <td>0.0</td>\n",
       "      <td>0.0</td>\n",
       "      <td>0.0</td>\n",
       "      <td>0.0</td>\n",
       "      <td>0.0</td>\n",
       "      <td>8.59</td>\n",
       "      <td>404.6</td>\n",
       "    </tr>\n",
       "    <tr>\n",
       "      <th>1</th>\n",
       "      <td>967.45</td>\n",
       "      <td>-2.85</td>\n",
       "      <td>272.88</td>\n",
       "      <td>-3.43</td>\n",
       "      <td>95.7</td>\n",
       "      <td>4.95</td>\n",
       "      <td>4.74</td>\n",
       "      <td>0.21</td>\n",
       "      <td>3.05</td>\n",
       "      <td>4.90</td>\n",
       "      <td>...</td>\n",
       "      <td>2.00</td>\n",
       "      <td>3.10</td>\n",
       "      <td>17.04</td>\n",
       "      <td>0.0</td>\n",
       "      <td>0.0</td>\n",
       "      <td>0.0</td>\n",
       "      <td>0.0</td>\n",
       "      <td>0.0</td>\n",
       "      <td>8.53</td>\n",
       "      <td>404.1</td>\n",
       "    </tr>\n",
       "    <tr>\n",
       "      <th>2</th>\n",
       "      <td>967.45</td>\n",
       "      <td>-2.88</td>\n",
       "      <td>272.85</td>\n",
       "      <td>-3.46</td>\n",
       "      <td>95.8</td>\n",
       "      <td>4.94</td>\n",
       "      <td>4.73</td>\n",
       "      <td>0.21</td>\n",
       "      <td>3.05</td>\n",
       "      <td>4.89</td>\n",
       "      <td>...</td>\n",
       "      <td>2.25</td>\n",
       "      <td>3.79</td>\n",
       "      <td>25.35</td>\n",
       "      <td>0.0</td>\n",
       "      <td>0.0</td>\n",
       "      <td>0.0</td>\n",
       "      <td>0.0</td>\n",
       "      <td>0.0</td>\n",
       "      <td>8.52</td>\n",
       "      <td>404.3</td>\n",
       "    </tr>\n",
       "    <tr>\n",
       "      <th>3</th>\n",
       "      <td>967.34</td>\n",
       "      <td>-2.90</td>\n",
       "      <td>272.84</td>\n",
       "      <td>-3.47</td>\n",
       "      <td>95.8</td>\n",
       "      <td>4.93</td>\n",
       "      <td>4.72</td>\n",
       "      <td>0.21</td>\n",
       "      <td>3.04</td>\n",
       "      <td>4.88</td>\n",
       "      <td>...</td>\n",
       "      <td>2.64</td>\n",
       "      <td>3.77</td>\n",
       "      <td>23.64</td>\n",
       "      <td>0.0</td>\n",
       "      <td>270.0</td>\n",
       "      <td>0.0</td>\n",
       "      <td>0.0</td>\n",
       "      <td>0.0</td>\n",
       "      <td>8.54</td>\n",
       "      <td>404.0</td>\n",
       "    </tr>\n",
       "    <tr>\n",
       "      <th>4</th>\n",
       "      <td>967.29</td>\n",
       "      <td>-2.96</td>\n",
       "      <td>272.78</td>\n",
       "      <td>-3.53</td>\n",
       "      <td>95.8</td>\n",
       "      <td>4.91</td>\n",
       "      <td>4.70</td>\n",
       "      <td>0.21</td>\n",
       "      <td>3.03</td>\n",
       "      <td>4.86</td>\n",
       "      <td>...</td>\n",
       "      <td>2.82</td>\n",
       "      <td>4.29</td>\n",
       "      <td>18.94</td>\n",
       "      <td>0.0</td>\n",
       "      <td>310.0</td>\n",
       "      <td>0.0</td>\n",
       "      <td>0.0</td>\n",
       "      <td>0.0</td>\n",
       "      <td>8.55</td>\n",
       "      <td>401.9</td>\n",
       "    </tr>\n",
       "  </tbody>\n",
       "</table>\n",
       "<p>5 rows × 21 columns</p>\n",
       "</div>"
      ],
      "text/plain": [
       "   p (mbar)  T (degC)  Tpot (K)  Tdew (degC)  rh (%)  VPmax (mbar)  \\\n",
       "0    967.56     -2.84    272.89        -3.41    95.8          4.95   \n",
       "1    967.45     -2.85    272.88        -3.43    95.7          4.95   \n",
       "2    967.45     -2.88    272.85        -3.46    95.8          4.94   \n",
       "3    967.34     -2.90    272.84        -3.47    95.8          4.93   \n",
       "4    967.29     -2.96    272.78        -3.53    95.8          4.91   \n",
       "\n",
       "   VPact (mbar)  VPdef (mbar)  sh (g/kg)  H2OC (mmol/mol)    ...      \\\n",
       "0          4.75          0.21       3.06             4.91    ...       \n",
       "1          4.74          0.21       3.05             4.90    ...       \n",
       "2          4.73          0.21       3.05             4.89    ...       \n",
       "3          4.72          0.21       3.04             4.88    ...       \n",
       "4          4.70          0.21       3.03             4.86    ...       \n",
       "\n",
       "   wv (m/s)  max. wv (m/s)  wd (deg)  rain (mm)  raining (s)  SWDR (W/m▓)  \\\n",
       "0      1.61           2.76     15.41        0.0          0.0          0.0   \n",
       "1      2.00           3.10     17.04        0.0          0.0          0.0   \n",
       "2      2.25           3.79     25.35        0.0          0.0          0.0   \n",
       "3      2.64           3.77     23.64        0.0        270.0          0.0   \n",
       "4      2.82           4.29     18.94        0.0        310.0          0.0   \n",
       "\n",
       "   PAR (Ámol/m▓/s)  max. PAR (Ámol/m▓/s)  Tlog (degC)  CO2 (ppm)  \n",
       "0              0.0                   0.0         8.59      404.6  \n",
       "1              0.0                   0.0         8.53      404.1  \n",
       "2              0.0                   0.0         8.52      404.3  \n",
       "3              0.0                   0.0         8.54      404.0  \n",
       "4              0.0                   0.0         8.55      401.9  \n",
       "\n",
       "[5 rows x 21 columns]"
      ]
     },
     "execution_count": 38,
     "metadata": {},
     "output_type": "execute_result"
    }
   ],
   "source": [
    "float_data.head()"
   ]
  },
  {
   "cell_type": "markdown",
   "metadata": {},
   "source": [
    "For instance, here is the plot of temperature (in degrees Celsius) over time:"
   ]
  },
  {
   "cell_type": "code",
   "execution_count": 41,
   "metadata": {},
   "outputs": [
    {
     "data": {
      "image/png": "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\n",
      "text/plain": [
       "<Figure size 432x288 with 1 Axes>"
      ]
     },
     "metadata": {},
     "output_type": "display_data"
    }
   ],
   "source": [
    "from matplotlib import pyplot as plt\n",
    "\n",
    "temp = float_data[:, 1]  # temperature (in degrees Celsius)\n",
    "plt.plot(range(len(temp)), temp)\n",
    "plt.show()"
   ]
  },
  {
   "cell_type": "markdown",
   "metadata": {},
   "source": [
    "\n",
    "On this plot, you can clearly see the yearly periodicity of temperature.\n",
    "\n",
    "Here is a more narrow plot of the first ten days of temperature data (since the data is recorded every ten minutes, we get 144 data points \n",
    "per day):"
   ]
  },
  {
   "cell_type": "code",
   "execution_count": 42,
   "metadata": {},
   "outputs": [
    {
     "data": {
      "image/png": "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\n",
      "text/plain": [
       "<Figure size 432x288 with 1 Axes>"
      ]
     },
     "metadata": {},
     "output_type": "display_data"
    }
   ],
   "source": [
    "plt.plot(range(1440), temp[:1440])\n",
    "plt.show()"
   ]
  },
  {
   "cell_type": "markdown",
   "metadata": {},
   "source": [
    "\n",
    "On this plot, you can see daily periodicity, especially evident for the last 4 days. We can also note that this ten-days period must be \n",
    "coming from a fairly cold winter month.\n",
    "\n",
    "If we were trying to predict average temperature for the next month given a few month of past data, the problem would be easy, due to the \n",
    "reliable year-scale periodicity of the data. But looking at the data over a scale of days, the temperature looks a lot more chaotic. So is \n",
    "this timeseries predictable at a daily scale? Let's find out."
   ]
  },
  {
   "cell_type": "markdown",
   "metadata": {},
   "source": [
    "## Preparing the data\n",
    "\n",
    "\n",
    "The exact formulation of our problem will be the following: given data going as far back as `lookback` timesteps (a timestep is 10 minutes) \n",
    "and sampled every `steps` timesteps, can we predict the temperature in `delay` timesteps?\n",
    "\n",
    "We will use the following parameter values:\n",
    "\n",
    "* `lookback = 720`, i.e. our observations will go back 5 days.\n",
    "* `steps = 6`, i.e. our observations will be sampled at one data point per hour.\n",
    "* `delay = 144`, i.e. our targets will be 24 hours in the future.\n",
    "\n",
    "To get started, we need to do two things:\n",
    "\n",
    "* Preprocess the data to a format a neural network can ingest. This is easy: the data is already numerical, so we don't need to do any \n",
    "vectorization. However each timeseries in the data is on a different scale (e.g. temperature is typically between -20 and +30, but \n",
    "pressure, measured in mbar, is around 1000). So we will normalize each timeseries independently so that they all take small values on a \n",
    "similar scale.\n",
    "* Write a Python generator that takes our current array of float data and yields batches of data from the recent past, alongside with a \n",
    "target temperature in the future. Since the samples in our dataset are highly redundant (e.g. sample `N` and sample `N + 1` will have most \n",
    "of their timesteps in common), it would be very wasteful to explicitly allocate every sample. Instead, we will generate the samples on the \n",
    "fly using the original data.\n",
    "\n",
    "We preprocess the data by subtracting the mean of each timeseries and dividing by the standard deviation. We plan on using the first \n",
    "200,000 timesteps as training data, so we compute the mean and standard deviation only on this fraction of the data:"
   ]
  },
  {
   "cell_type": "code",
   "execution_count": 43,
   "metadata": {},
   "outputs": [],
   "source": [
    "mean = float_data[:200000].mean(axis=0)\n",
    "float_data -= mean\n",
    "std = float_data[:200000].std(axis=0)\n",
    "float_data /= std"
   ]
  },
  {
   "cell_type": "markdown",
   "metadata": {},
   "source": [
    "\n",
    "Now here is the data generator that we will use. It yields a tuple `(samples, targets)` where `samples` is one batch of input data and \n",
    "`targets` is the corresponding array of target temperatures. It takes the following arguments:\n",
    "\n",
    "* `data`: The original array of floating point data, which we just normalized in the code snippet above.\n",
    "* `lookback`: How many timesteps back should our input data go.\n",
    "* `delay`: How many timesteps in the future should our target be.\n",
    "* `min_index` and `max_index`: Indices in the `data` array that delimit which timesteps to draw from. This is useful for keeping a segment \n",
    "of the data for validation and another one for testing.\n",
    "* `shuffle`: Whether to shuffle our samples or draw them in chronological order.\n",
    "* `batch_size`: The number of samples per batch.\n",
    "* `step`: The period, in timesteps, at which we sample data. We will set it 6 in order to draw one data point every hour."
   ]
  },
  {
   "cell_type": "code",
   "execution_count": 44,
   "metadata": {},
   "outputs": [],
   "source": [
    "def generator(data, lookback, delay, min_index, max_index,\n",
    "              shuffle=False, batch_size=128, step=6):\n",
    "    if max_index is None:\n",
    "        max_index = len(data) - delay - 1\n",
    "    i = min_index + lookback\n",
    "    while 1:\n",
    "        if shuffle:\n",
    "            rows = np.random.randint(\n",
    "                min_index + lookback, max_index, size=batch_size)\n",
    "        else:\n",
    "            if i + batch_size >= max_index:\n",
    "                i = min_index + lookback\n",
    "            rows = np.arange(i, min(i + batch_size, max_index))\n",
    "            i += len(rows)\n",
    "\n",
    "        samples = np.zeros((len(rows),\n",
    "                           lookback // step,\n",
    "                           data.shape[-1]))\n",
    "        targets = np.zeros((len(rows),))\n",
    "        for j, row in enumerate(rows):\n",
    "            indices = range(rows[j] - lookback, rows[j], step)\n",
    "            samples[j] = data[indices]\n",
    "            targets[j] = data[rows[j] + delay][1]\n",
    "        yield samples, targets"
   ]
  },
  {
   "cell_type": "markdown",
   "metadata": {},
   "source": [
    "\n",
    "Now let's use our abstract generator function to instantiate three generators, one for training, one for validation and one for testing. \n",
    "Each will look at different temporal segments of the original data: the training generator looks at the first 200,000 timesteps, the \n",
    "validation generator looks at the following 100,000, and the test generator looks at the remainder."
   ]
  },
  {
   "cell_type": "code",
   "execution_count": 45,
   "metadata": {},
   "outputs": [],
   "source": [
    "lookback = 1440\n",
    "step = 6\n",
    "delay = 144\n",
    "batch_size = 128\n",
    "\n",
    "train_gen = generator(float_data,\n",
    "                      lookback=lookback,\n",
    "                      delay=delay,\n",
    "                      min_index=0,\n",
    "                      max_index=200000,\n",
    "                      shuffle=True,\n",
    "                      step=step, \n",
    "                      batch_size=batch_size)\n",
    "val_gen = generator(float_data,\n",
    "                    lookback=lookback,\n",
    "                    delay=delay,\n",
    "                    min_index=200001,\n",
    "                    max_index=300000,\n",
    "                    step=step,\n",
    "                    batch_size=batch_size)\n",
    "test_gen = generator(float_data,\n",
    "                     lookback=lookback,\n",
    "                     delay=delay,\n",
    "                     min_index=300001,\n",
    "                     max_index=None,\n",
    "                     step=step,\n",
    "                     batch_size=batch_size)\n",
    "\n",
    "# This is how many steps to draw from `val_gen`\n",
    "# in order to see the whole validation set:\n",
    "val_steps = (300000 - 200001 - lookback) // batch_size\n",
    "\n",
    "# This is how many steps to draw from `test_gen`\n",
    "# in order to see the whole test set:\n",
    "test_steps = (len(float_data) - 300001 - lookback) // batch_size"
   ]
  },
  {
   "cell_type": "markdown",
   "metadata": {},
   "source": [
    "## A common sense, non-machine learning baseline\n",
    "\n",
    "\n",
    "Before we start leveraging black-box deep learning models to solve our temperature prediction problem, let's try out a simple common-sense \n",
    "approach. It will serve as a sanity check, and it will establish a baseline that we will have to beat in order to demonstrate the \n",
    "usefulness of more advanced machine learning models. Such common-sense baselines can be very useful when approaching a new problem for \n",
    "which there is no known solution (yet). A classic example is that of unbalanced classification tasks, where some classes can be much more \n",
    "common than others. If your dataset contains 90% of instances of class A and 10% of instances of class B, then a common sense approach to \n",
    "the classification task would be to always predict \"A\" when presented with a new sample. Such a classifier would be 90% accurate overall, \n",
    "and any learning-based approach should therefore beat this 90% score in order to demonstrate usefulness. Sometimes such elementary \n",
    "baseline can prove surprisingly hard to beat.\n",
    "\n",
    "In our case, the temperature timeseries can safely be assumed to be continuous (the temperatures tomorrow are likely to be close to the \n",
    "temperatures today) as well as periodical with a daily period. Thus a common sense approach would be to always predict that the temperature \n",
    "24 hours from now will be equal to the temperature right now. Let's evaluate this approach, using the Mean Absolute Error metric (MAE). \n",
    "Mean Absolute Error is simply equal to:"
   ]
  },
  {
   "cell_type": "code",
   "execution_count": 46,
   "metadata": {},
   "outputs": [
    {
     "ename": "NameError",
     "evalue": "name 'preds' is not defined",
     "output_type": "error",
     "traceback": [
      "\u001b[0;31m---------------------------------------------------------------------------\u001b[0m",
      "\u001b[0;31mNameError\u001b[0m                                 Traceback (most recent call last)",
      "\u001b[0;32m<ipython-input-46-2c3bc3683db5>\u001b[0m in \u001b[0;36m<module>\u001b[0;34m()\u001b[0m\n\u001b[0;32m----> 1\u001b[0;31m \u001b[0mnp\u001b[0m\u001b[0;34m.\u001b[0m\u001b[0mmean\u001b[0m\u001b[0;34m(\u001b[0m\u001b[0mnp\u001b[0m\u001b[0;34m.\u001b[0m\u001b[0mabs\u001b[0m\u001b[0;34m(\u001b[0m\u001b[0mpreds\u001b[0m \u001b[0;34m-\u001b[0m \u001b[0mtargets\u001b[0m\u001b[0;34m)\u001b[0m\u001b[0;34m)\u001b[0m\u001b[0;34m\u001b[0m\u001b[0m\n\u001b[0m",
      "\u001b[0;31mNameError\u001b[0m: name 'preds' is not defined"
     ]
    }
   ],
   "source": [
    "np.mean(np.abs(preds - targets))"
   ]
  },
  {
   "cell_type": "markdown",
   "metadata": {},
   "source": [
    "Here's our evaluation loop:"
   ]
  },
  {
   "cell_type": "code",
   "execution_count": 47,
   "metadata": {},
   "outputs": [
    {
     "name": "stdout",
     "output_type": "stream",
     "text": [
      "0.309228844711\n"
     ]
    }
   ],
   "source": [
    "def evaluate_naive_method():\n",
    "    batch_maes = []\n",
    "    for step in range(val_steps):\n",
    "        samples, targets = next(val_gen)\n",
    "        preds = samples[:, -1, 1]\n",
    "        mae = np.mean(np.abs(preds - targets))\n",
    "        batch_maes.append(mae)\n",
    "    print(np.mean(batch_maes))\n",
    "    \n",
    "evaluate_naive_method()"
   ]
  },
  {
   "cell_type": "markdown",
   "metadata": {},
   "source": [
    "It yields a MAE of 0.29. Since our temperature data has been normalized to be centered on 0 and have a standard deviation of one, this \n",
    "number is not immediately interpretable. It translates to an average absolute error of `0.29 * temperature_std` degrees Celsius, i.e. \n",
    "2.57˚C. That's a fairly large average absolute error -- now the game is to leverage our knowledge of deep learning to do better. "
   ]
  },
  {
   "cell_type": "markdown",
   "metadata": {},
   "source": [
    "## A basic machine learning approach\n",
    "\n",
    "In the same way that it is useful to establish a common sense baseline before trying machine learning approaches, it is useful to try \n",
    "simple and cheap machine learning models (such as small densely-connected networks) before looking into complicated and computationally \n",
    "expensive models such as RNNs. This is the best way to make sure that any further complexity we throw at the problem later on is legitimate \n",
    "and delivers real benefits.\n",
    "\n",
    "Here is a simply fully-connected model in which we start by flattening the data, then run it through two `Dense` layers. Note the lack of \n",
    "activation function on the last `Dense` layer, which is typical for a regression problem. We use MAE as the loss. Since we are evaluating \n",
    "on the exact same data and with the exact same metric as with our common sense approach, the results will be directly comparable."
   ]
  },
  {
   "cell_type": "code",
   "execution_count": 48,
   "metadata": {},
   "outputs": [
    {
     "name": "stdout",
     "output_type": "stream",
     "text": [
      "Epoch 1/20\n",
      "500/500 [==============================] - 21s 42ms/step - loss: 1.6987 - val_loss: 4.2559\n",
      "Epoch 2/20\n",
      "500/500 [==============================] - 19s 39ms/step - loss: 3.4120 - val_loss: 6.3145\n",
      "Epoch 3/20\n",
      "500/500 [==============================] - 20s 39ms/step - loss: 7.0480 - val_loss: 16.7503\n",
      "Epoch 4/20\n",
      "500/500 [==============================] - 19s 38ms/step - loss: 11.7573 - val_loss: 26.8096\n",
      "Epoch 5/20\n",
      "500/500 [==============================] - 19s 39ms/step - loss: 17.0593 - val_loss: 41.2193\n",
      "Epoch 6/20\n",
      "500/500 [==============================] - 20s 39ms/step - loss: 22.4587 - val_loss: 16.8610\n",
      "Epoch 7/20\n",
      "500/500 [==============================] - 20s 39ms/step - loss: 28.4728 - val_loss: 17.4119\n",
      "Epoch 8/20\n",
      "500/500 [==============================] - 20s 39ms/step - loss: 34.3342 - val_loss: 69.2689\n",
      "Epoch 9/20\n",
      "500/500 [==============================] - 20s 39ms/step - loss: 39.9010 - val_loss: 67.5882\n",
      "Epoch 10/20\n",
      "500/500 [==============================] - 19s 39ms/step - loss: 46.1489 - val_loss: 72.0484\n",
      "Epoch 11/20\n",
      "500/500 [==============================] - 20s 39ms/step - loss: 52.2156 - val_loss: 77.6494\n",
      "Epoch 12/20\n",
      "500/500 [==============================] - 20s 39ms/step - loss: 58.0622 - val_loss: 106.4849\n",
      "Epoch 13/20\n",
      "500/500 [==============================] - 20s 40ms/step - loss: 63.5679 - val_loss: 86.4668\n",
      "Epoch 14/20\n",
      "500/500 [==============================] - 20s 41ms/step - loss: 70.1922 - val_loss: 72.8298\n",
      "Epoch 15/20\n",
      "500/500 [==============================] - 20s 41ms/step - loss: 76.3469 - val_loss: 36.6130\n",
      "Epoch 16/20\n",
      "500/500 [==============================] - 20s 41ms/step - loss: 83.4626 - val_loss: 83.4909\n",
      "Epoch 17/20\n",
      "500/500 [==============================] - 20s 40ms/step - loss: 89.1140 - val_loss: 192.1942\n",
      "Epoch 18/20\n",
      "500/500 [==============================] - 20s 39ms/step - loss: 96.3610 - val_loss: 93.2042\n",
      "Epoch 19/20\n",
      "500/500 [==============================] - 19s 39ms/step - loss: 101.3968 - val_loss: 171.5387\n",
      "Epoch 20/20\n",
      "500/500 [==============================] - 20s 40ms/step - loss: 108.8404 - val_loss: 71.3182\n"
     ]
    }
   ],
   "source": [
    "from keras.models import Sequential\n",
    "from keras import layers\n",
    "from keras.optimizers import RMSprop\n",
    "\n",
    "model = Sequential()\n",
    "model.add(layers.Flatten(input_shape=(lookback // step, float_data.shape[-1])))\n",
    "model.add(layers.Dense(32, activation='relu'))\n",
    "model.add(layers.Dense(1))\n",
    "\n",
    "model.compile(optimizer=RMSprop(), loss='mae')\n",
    "history = model.fit_generator(train_gen,\n",
    "                              steps_per_epoch=500,\n",
    "                              epochs=20,\n",
    "                              validation_data=val_gen,\n",
    "                              validation_steps=val_steps)"
   ]
  },
  {
   "cell_type": "markdown",
   "metadata": {},
   "source": [
    "Let's display the loss curves for validation and training:"
   ]
  },
  {
   "cell_type": "code",
   "execution_count": 49,
   "metadata": {},
   "outputs": [
    {
     "data": {
      "image/png": "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\n",
      "text/plain": [
       "<Figure size 432x288 with 1 Axes>"
      ]
     },
     "metadata": {},
     "output_type": "display_data"
    }
   ],
   "source": [
    "import matplotlib.pyplot as plt\n",
    "\n",
    "loss = history.history['loss']\n",
    "val_loss = history.history['val_loss']\n",
    "\n",
    "epochs = range(len(loss))\n",
    "\n",
    "plt.figure()\n",
    "\n",
    "plt.plot(epochs, loss, 'bo', label='Training loss')\n",
    "plt.plot(epochs, val_loss, 'b', label='Validation loss')\n",
    "plt.title('Training and validation loss')\n",
    "plt.legend()\n",
    "\n",
    "plt.show()"
   ]
  },
  {
   "cell_type": "markdown",
   "metadata": {},
   "source": [
    "\n",
    "Some of our validation losses get close to the no-learning baseline, but not very reliably. This goes to show the merit of having had this baseline in the first place: it turns out not to be so easy to outperform. Our \n",
    "common sense contains already a lot of valuable information that a machine learning model does not have access to.\n",
    "\n",
    "You may ask, if there exists a simple, well-performing model to go from the data to the targets (our common sense baseline), why doesn't \n",
    "the model we are training find it and improve on it? Simply put: because this simple solution is not what our training setup is looking \n",
    "for. The space of models in which we are searching for a solution, i.e. our hypothesis space, is the space of all possible 2-layer networks \n",
    "with the configuration that we defined. These networks are already fairly complicated. When looking for a solution with a space of \n",
    "complicated models, the simple well-performing baseline might be unlearnable, even if it's technically part of the hypothesis space. That \n",
    "is a pretty significant limitation of machine learning in general: unless the learning algorithm is hard-coded to look for a specific kind \n",
    "of simple model, parameter learning can sometimes fail to find a simple solution to a simple problem."
   ]
  },
  {
   "cell_type": "markdown",
   "metadata": {},
   "source": [
    "## A first recurrent baseline\n",
    "\n",
    "\n",
    "Our first fully-connected approach didn't do so well, but that doesn't mean machine learning is not applicable to our problem. The approach \n",
    "above consisted in first flattening the timeseries, which removed the notion of time from the input data. Let us instead look at our data \n",
    "as what it is: a sequence, where causality and order matter. We will try a recurrent sequence processing model -- it should be the perfect \n",
    "fit for such sequence data, precisely because it does exploit the temporal ordering of data points, unlike our first approach.\n",
    "\n",
    "Instead of the `LSTM` layer introduced in the previous section, we will use the `GRU` layer, developed by Cho et al. in 2014. `GRU` layers \n",
    "(which stands for \"gated recurrent unit\") work by leveraging the same principle as LSTM, but they are somewhat streamlined and thus cheaper \n",
    "to run, albeit they may not have quite as much representational power as LSTM. This trade-off between computational expensiveness and \n",
    "representational power is seen everywhere in machine learning."
   ]
  },
  {
   "cell_type": "code",
   "execution_count": 50,
   "metadata": {},
   "outputs": [
    {
     "name": "stdout",
     "output_type": "stream",
     "text": [
      "Epoch 1/20\n",
      "500/500 [==============================] - 163s 327ms/step - loss: 0.2842 - val_loss: 0.2868\n",
      "Epoch 2/20\n",
      "500/500 [==============================] - 162s 325ms/step - loss: 0.2676 - val_loss: 0.2744\n",
      "Epoch 3/20\n",
      "500/500 [==============================] - 164s 328ms/step - loss: 0.2592 - val_loss: 0.2786\n",
      "Epoch 4/20\n",
      "500/500 [==============================] - 162s 324ms/step - loss: 0.2539 - val_loss: 0.2738\n",
      "Epoch 5/20\n",
      "500/500 [==============================] - 164s 328ms/step - loss: 0.2457 - val_loss: 0.2792\n",
      "Epoch 6/20\n",
      "500/500 [==============================] - 158s 315ms/step - loss: 0.2403 - val_loss: 0.2809\n",
      "Epoch 7/20\n",
      "500/500 [==============================] - 162s 323ms/step - loss: 0.2349 - val_loss: 0.2786\n",
      "Epoch 8/20\n",
      "500/500 [==============================] - 164s 329ms/step - loss: 0.2279 - val_loss: 0.2853\n",
      "Epoch 9/20\n",
      "500/500 [==============================] - 162s 324ms/step - loss: 0.2247 - val_loss: 0.2877\n",
      "Epoch 10/20\n",
      "500/500 [==============================] - 165s 331ms/step - loss: 0.2201 - val_loss: 0.2891\n",
      "Epoch 11/20\n",
      "500/500 [==============================] - 161s 321ms/step - loss: 0.2163 - val_loss: 0.2940\n",
      "Epoch 12/20\n",
      "500/500 [==============================] - 159s 319ms/step - loss: 0.2107 - val_loss: 0.2921\n",
      "Epoch 13/20\n",
      "500/500 [==============================] - 166s 332ms/step - loss: 0.2080 - val_loss: 0.3020\n",
      "Epoch 14/20\n",
      "500/500 [==============================] - 166s 331ms/step - loss: 0.2030 - val_loss: 0.2990\n",
      "Epoch 15/20\n",
      "500/500 [==============================] - 164s 328ms/step - loss: 0.1990 - val_loss: 0.3031\n",
      "Epoch 16/20\n",
      "500/500 [==============================] - 164s 328ms/step - loss: 0.1964 - val_loss: 0.3040\n",
      "Epoch 17/20\n",
      "500/500 [==============================] - 161s 321ms/step - loss: 0.1912 - val_loss: 0.3067\n",
      "Epoch 18/20\n",
      "500/500 [==============================] - 158s 316ms/step - loss: 0.1879 - val_loss: 0.3162\n",
      "Epoch 19/20\n",
      "500/500 [==============================] - 158s 316ms/step - loss: 0.1850 - val_loss: 0.3114\n",
      "Epoch 20/20\n",
      "500/500 [==============================] - 163s 326ms/step - loss: 0.1830 - val_loss: 0.3126\n"
     ]
    }
   ],
   "source": [
    "from keras.models import Sequential\n",
    "from keras import layers\n",
    "from keras.optimizers import RMSprop\n",
    "\n",
    "model = Sequential()\n",
    "model.add(layers.GRU(32, input_shape=(None, float_data.shape[-1])))\n",
    "model.add(layers.Dense(1))\n",
    "\n",
    "model.compile(optimizer=RMSprop(), loss='mae')\n",
    "history = model.fit_generator(train_gen,\n",
    "                              steps_per_epoch=500,\n",
    "                              epochs=20,\n",
    "                              validation_data=val_gen,\n",
    "                              validation_steps=val_steps)"
   ]
  },
  {
   "cell_type": "markdown",
   "metadata": {},
   "source": [
    "Let look at our results:"
   ]
  },
  {
   "cell_type": "code",
   "execution_count": 51,
   "metadata": {},
   "outputs": [
    {
     "data": {
      "image/png": "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\n",
      "text/plain": [
       "<Figure size 432x288 with 1 Axes>"
      ]
     },
     "metadata": {},
     "output_type": "display_data"
    }
   ],
   "source": [
    "loss = history.history['loss']\n",
    "val_loss = history.history['val_loss']\n",
    "\n",
    "epochs = range(len(loss))\n",
    "\n",
    "plt.figure()\n",
    "\n",
    "plt.plot(epochs, loss, 'bo', label='Training loss')\n",
    "plt.plot(epochs, val_loss, 'b', label='Validation loss')\n",
    "plt.title('Training and validation loss')\n",
    "plt.legend()\n",
    "\n",
    "plt.show()"
   ]
  },
  {
   "cell_type": "markdown",
   "metadata": {},
   "source": [
    "\n",
    "Much better! We are able to significantly beat the common sense baseline, such demonstrating the value of machine learning here, as well as \n",
    "the superiority of recurrent networks compared to sequence-flattening dense networks on this type of task.\n",
    "\n",
    "Our new validation MAE of ~0.265 (before we start significantly overfitting) translates to a mean absolute error of 2.35˚C after \n",
    "de-normalization. That's a solid gain on our initial error of 2.57˚C, but we probably still have a bit of margin for improvement."
   ]
  },
  {
   "cell_type": "markdown",
   "metadata": {},
   "source": [
    "## Using recurrent dropout to fight overfitting\n",
    "\n",
    "\n",
    "It is evident from our training and validation curves that our model is overfitting: the training and validation losses start diverging \n",
    "considerably after a few epochs. You are already familiar with a classic technique for fighting this phenomenon: dropout, consisting in \n",
    "randomly zeroing-out input units of a layer in order to break happenstance correlations in the training data that the layer is exposed to. \n",
    "How to correctly apply dropout in recurrent networks, however, is not a trivial question. It has long been known that applying dropout \n",
    "before a recurrent layer hinders learning rather than helping with regularization. In 2015, Yarin Gal, as part of his Ph.D. thesis on \n",
    "Bayesian deep learning, determined the proper way to use dropout with a recurrent network: the same dropout mask (the same pattern of \n",
    "dropped units) should be applied at every timestep, instead of a dropout mask that would vary randomly from timestep to timestep. What's \n",
    "more: in order to regularize the representations formed by the recurrent gates of layers such as GRU and LSTM, a temporally constant \n",
    "dropout mask should be applied to the inner recurrent activations of the layer (a \"recurrent\" dropout mask). Using the same dropout mask at \n",
    "every timestep allows the network to properly propagate its learning error through time; a temporally random dropout mask would instead \n",
    "disrupt this error signal and be harmful to the learning process.\n",
    "\n",
    "Yarin Gal did his research using Keras and helped build this mechanism directly into Keras recurrent layers. Every recurrent layer in Keras \n",
    "has two dropout-related arguments: `dropout`, a float specifying the dropout rate for input units of the layer, and `recurrent_dropout`, \n",
    "specifying the dropout rate of the recurrent units. Let's add dropout and recurrent dropout to our GRU layer and see how it impacts \n",
    "overfitting. Because networks being regularized with dropout always take longer to fully converge, we train our network for twice as many \n",
    "epochs."
   ]
  },
  {
   "cell_type": "code",
   "execution_count": 52,
   "metadata": {},
   "outputs": [
    {
     "name": "stdout",
     "output_type": "stream",
     "text": [
      "Epoch 1/40\n",
      "500/500 [==============================] - 187s 375ms/step - loss: 0.3320 - val_loss: 0.2889\n",
      "Epoch 2/40\n",
      "500/500 [==============================] - 188s 375ms/step - loss: 0.2981 - val_loss: 0.2922\n",
      "Epoch 3/40\n",
      "500/500 [==============================] - 196s 393ms/step - loss: 0.2916 - val_loss: 0.2868\n",
      "Epoch 4/40\n",
      "500/500 [==============================] - 181s 361ms/step - loss: 0.2865 - val_loss: 0.2845\n",
      "Epoch 5/40\n",
      "500/500 [==============================] - 179s 359ms/step - loss: 0.2814 - val_loss: 0.2779\n",
      "Epoch 7/40\n",
      "500/500 [==============================] - 181s 362ms/step - loss: 0.2779 - val_loss: 0.2787\n",
      "Epoch 8/40\n",
      "500/500 [==============================] - 179s 359ms/step - loss: 0.2750 - val_loss: 0.2790\n",
      "Epoch 9/40\n",
      "500/500 [==============================] - 181s 362ms/step - loss: 0.2724 - val_loss: 0.2780\n",
      "Epoch 10/40\n",
      "500/500 [==============================] - 192s 384ms/step - loss: 0.2728 - val_loss: 0.2808\n",
      "Epoch 11/40\n",
      "500/500 [==============================] - 181s 362ms/step - loss: 0.2709 - val_loss: 0.2765\n",
      "Epoch 12/40\n",
      "500/500 [==============================] - 184s 367ms/step - loss: 0.2696 - val_loss: 0.2770\n",
      "Epoch 13/40\n",
      "500/500 [==============================] - 180s 360ms/step - loss: 0.2687 - val_loss: 0.2778\n",
      "Epoch 14/40\n",
      "500/500 [==============================] - 181s 362ms/step - loss: 0.2666 - val_loss: 0.2818\n",
      "Epoch 15/40\n",
      "500/500 [==============================] - 179s 359ms/step - loss: 0.2658 - val_loss: 0.2758\n",
      "Epoch 16/40\n",
      "500/500 [==============================] - 180s 360ms/step - loss: 0.2650 - val_loss: 0.2770\n",
      "Epoch 17/40\n",
      "500/500 [==============================] - 179s 357ms/step - loss: 0.2641 - val_loss: 0.2790\n",
      "Epoch 18/40\n",
      "500/500 [==============================] - 182s 364ms/step - loss: 0.2624 - val_loss: 0.2806\n",
      "Epoch 19/40\n",
      "500/500 [==============================] - 180s 359ms/step - loss: 0.2610 - val_loss: 0.2782\n",
      "Epoch 20/40\n",
      "500/500 [==============================] - 180s 360ms/step - loss: 0.2610 - val_loss: 0.2811\n",
      "Epoch 21/40\n",
      "500/500 [==============================] - 180s 361ms/step - loss: 0.2603 - val_loss: 0.2748\n",
      "Epoch 22/40\n",
      "500/500 [==============================] - 180s 360ms/step - loss: 0.2586 - val_loss: 0.2783\n",
      "Epoch 23/40\n",
      "500/500 [==============================] - 189s 378ms/step - loss: 0.2583 - val_loss: 0.2817\n",
      "Epoch 24/40\n",
      "500/500 [==============================] - 199s 398ms/step - loss: 0.2571 - val_loss: 0.2814\n",
      "Epoch 25/40\n",
      "500/500 [==============================] - 177s 354ms/step - loss: 0.2565 - val_loss: 0.2780\n",
      "Epoch 26/40\n",
      "500/500 [==============================] - 179s 359ms/step - loss: 0.2565 - val_loss: 0.2802\n",
      "Epoch 27/40\n",
      "500/500 [==============================] - 179s 358ms/step - loss: 0.2563 - val_loss: 0.2808\n",
      "Epoch 28/40\n",
      "500/500 [==============================] - 181s 361ms/step - loss: 0.2558 - val_loss: 0.2804\n",
      "Epoch 29/40\n",
      "500/500 [==============================] - 178s 357ms/step - loss: 0.2537 - val_loss: 0.2770\n",
      "Epoch 30/40\n",
      "500/500 [==============================] - 181s 362ms/step - loss: 0.2536 - val_loss: 0.2789\n",
      "Epoch 31/40\n",
      "500/500 [==============================] - 180s 361ms/step - loss: 0.2526 - val_loss: 0.2839\n",
      "Epoch 32/40\n",
      "500/500 [==============================] - 182s 365ms/step - loss: 0.2534 - val_loss: 0.2773\n",
      "Epoch 33/40\n",
      "500/500 [==============================] - 184s 368ms/step - loss: 0.2528 - val_loss: 0.2771\n",
      "Epoch 34/40\n",
      "500/500 [==============================] - 181s 361ms/step - loss: 0.2522 - val_loss: 0.2785\n",
      "Epoch 35/40\n",
      "500/500 [==============================] - 188s 377ms/step - loss: 0.2523 - val_loss: 0.2750\n",
      "Epoch 36/40\n",
      "500/500 [==============================] - 183s 365ms/step - loss: 0.2517 - val_loss: 0.2753\n",
      "Epoch 37/40\n",
      "500/500 [==============================] - 183s 366ms/step - loss: 0.2512 - val_loss: 0.2736\n",
      "Epoch 38/40\n",
      "500/500 [==============================] - 182s 363ms/step - loss: 0.2490 - val_loss: 0.2769\n",
      "Epoch 39/40\n",
      "500/500 [==============================] - 180s 361ms/step - loss: 0.2509 - val_loss: 0.2760\n",
      "Epoch 40/40\n",
      "500/500 [==============================] - 178s 356ms/step - loss: 0.2502 - val_loss: 0.2781\n"
     ]
    }
   ],
   "source": [
    "from keras.models import Sequential\n",
    "from keras import layers\n",
    "from keras.optimizers import RMSprop\n",
    "\n",
    "model = Sequential()\n",
    "model.add(layers.GRU(32,\n",
    "                     dropout=0.2,\n",
    "                     recurrent_dropout=0.2,\n",
    "                     input_shape=(None, float_data.shape[-1])))\n",
    "model.add(layers.Dense(1))\n",
    "\n",
    "model.compile(optimizer=RMSprop(), loss='mae')\n",
    "history = model.fit_generator(train_gen,\n",
    "                              steps_per_epoch=500,\n",
    "                              epochs=40,\n",
    "                              validation_data=val_gen,\n",
    "                              validation_steps=val_steps)"
   ]
  },
  {
   "cell_type": "code",
   "execution_count": 53,
   "metadata": {},
   "outputs": [
    {
     "data": {
      "image/png": "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\n",
      "text/plain": [
       "<Figure size 432x288 with 1 Axes>"
      ]
     },
     "metadata": {},
     "output_type": "display_data"
    }
   ],
   "source": [
    "loss = history.history['loss']\n",
    "val_loss = history.history['val_loss']\n",
    "\n",
    "epochs = range(len(loss))\n",
    "\n",
    "plt.figure()\n",
    "\n",
    "plt.plot(epochs, loss, 'bo', label='Training loss')\n",
    "plt.plot(epochs, val_loss, 'b', label='Validation loss')\n",
    "plt.title('Training and validation loss')\n",
    "plt.legend()\n",
    "\n",
    "plt.show()"
   ]
  },
  {
   "cell_type": "markdown",
   "metadata": {},
   "source": [
    "Great success; we are no longer overfitting during the first 30 epochs. However, while we have more stable evaluation scores, our best \n",
    "scores are not much lower than they were previously."
   ]
  },
  {
   "cell_type": "markdown",
   "metadata": {},
   "source": [
    "## Stacking recurrent layers\n",
    "\n",
    "Since we are no longer overfitting yet we seem to have hit a performance bottleneck, we should start considering increasing the capacity of \n",
    "our network. If you remember our description of the \"universal machine learning workflow\": it is a generally a good idea to increase the \n",
    "capacity of your network until overfitting becomes your primary obstacle (assuming that you are already taking basic steps to mitigate \n",
    "overfitting, such as using dropout). As long as you are not overfitting too badly, then you are likely under-capacity.\n",
    "\n",
    "Increasing network capacity is typically done by increasing the number of units in the layers, or adding more layers. Recurrent layer \n",
    "stacking is a classic way to build more powerful recurrent networks: for instance, what currently powers the Google translate algorithm is \n",
    "a stack of seven large LSTM layers -- that's huge.\n",
    "\n",
    "To stack recurrent layers on top of each other in Keras, all intermediate layers should return their full sequence of outputs (a 3D tensor) \n",
    "rather than their output at the last timestep. This is done by specifying `return_sequences=True`: "
   ]
  },
  {
   "cell_type": "code",
   "execution_count": 54,
   "metadata": {},
   "outputs": [
    {
     "name": "stdout",
     "output_type": "stream",
     "text": [
      "Epoch 1/40\n",
      "500/500 [==============================] - 485s 970ms/step - loss: 0.3166 - val_loss: 0.2823\n",
      "Epoch 2/40\n",
      "500/500 [==============================] - 486s 972ms/step - loss: 0.2949 - val_loss: 0.2794\n",
      "Epoch 3/40\n",
      "500/500 [==============================] - 484s 969ms/step - loss: 0.2884 - val_loss: 0.2785\n",
      "Epoch 4/40\n",
      "500/500 [==============================] - 503s 1s/step - loss: 0.2837 - val_loss: 0.2754\n",
      "Epoch 5/40\n",
      "500/500 [==============================] - 488s 975ms/step - loss: 0.2798 - val_loss: 0.2731\n",
      "Epoch 6/40\n",
      "500/500 [==============================] - 486s 973ms/step - loss: 0.2771 - val_loss: 0.2714\n",
      "Epoch 7/40\n",
      "500/500 [==============================] - 486s 972ms/step - loss: 0.2726 - val_loss: 0.2749\n",
      "Epoch 8/40\n",
      "500/500 [==============================] - 488s 976ms/step - loss: 0.2691 - val_loss: 0.2735\n",
      "Epoch 9/40\n",
      "500/500 [==============================] - 483s 967ms/step - loss: 0.2669 - val_loss: 0.2711\n",
      "Epoch 10/40\n",
      "500/500 [==============================] - 484s 968ms/step - loss: 0.2652 - val_loss: 0.2753\n",
      "Epoch 11/40\n",
      "500/500 [==============================] - 491s 983ms/step - loss: 0.2623 - val_loss: 0.2736\n",
      "Epoch 12/40\n",
      "500/500 [==============================] - 488s 977ms/step - loss: 0.2605 - val_loss: 0.2779\n",
      "Epoch 13/40\n",
      "500/500 [==============================] - 488s 977ms/step - loss: 0.2579 - val_loss: 0.2785\n",
      "Epoch 14/40\n",
      "500/500 [==============================] - 488s 977ms/step - loss: 0.2573 - val_loss: 0.2737\n",
      "Epoch 15/40\n",
      "500/500 [==============================] - 489s 978ms/step - loss: 0.2557 - val_loss: 0.2742\n",
      "Epoch 16/40\n",
      "500/500 [==============================] - 488s 976ms/step - loss: 0.2548 - val_loss: 0.2773\n",
      "Epoch 17/40\n",
      "500/500 [==============================] - 489s 979ms/step - loss: 0.2533 - val_loss: 0.2777\n",
      "Epoch 18/40\n",
      "500/500 [==============================] - 492s 984ms/step - loss: 0.2496 - val_loss: 0.2783\n",
      "Epoch 19/40\n",
      "500/500 [==============================] - 495s 991ms/step - loss: 0.2497 - val_loss: 0.2821\n",
      "Epoch 20/40\n",
      "500/500 [==============================] - 488s 976ms/step - loss: 0.2479 - val_loss: 0.2773\n",
      "Epoch 21/40\n",
      "500/500 [==============================] - 495s 991ms/step - loss: 0.2474 - val_loss: 0.2798\n",
      "Epoch 22/40\n",
      "500/500 [==============================] - 502s 1s/step - loss: 0.2459 - val_loss: 0.2804\n",
      "Epoch 23/40\n",
      "500/500 [==============================] - 496s 992ms/step - loss: 0.2448 - val_loss: 0.2801\n",
      "Epoch 24/40\n",
      "500/500 [==============================] - 490s 980ms/step - loss: 0.2442 - val_loss: 0.2837\n",
      "Epoch 25/40\n",
      "500/500 [==============================] - 499s 998ms/step - loss: 0.2415 - val_loss: 0.2858\n",
      "Epoch 26/40\n",
      "500/500 [==============================] - 487s 974ms/step - loss: 0.2424 - val_loss: 0.2831\n",
      "Epoch 27/40\n",
      "500/500 [==============================] - 503s 1s/step - loss: 0.2413 - val_loss: 0.2823\n",
      "Epoch 28/40\n",
      "500/500 [==============================] - 492s 984ms/step - loss: 0.2397 - val_loss: 0.2800\n",
      "Epoch 29/40\n",
      "500/500 [==============================] - 489s 977ms/step - loss: 0.2382 - val_loss: 0.2867\n",
      "Epoch 30/40\n",
      "500/500 [==============================] - 500s 1s/step - loss: 0.2380 - val_loss: 0.2811\n",
      "Epoch 31/40\n",
      "500/500 [==============================] - 502s 1s/step - loss: 0.2371 - val_loss: 0.2841\n",
      "Epoch 32/40\n",
      "500/500 [==============================] - 501s 1s/step - loss: 0.2375 - val_loss: 0.2846\n",
      "Epoch 33/40\n",
      "500/500 [==============================] - 493s 986ms/step - loss: 0.2370 - val_loss: 0.2852\n",
      "Epoch 34/40\n",
      "500/500 [==============================] - 493s 987ms/step - loss: 0.2351 - val_loss: 0.2812\n",
      "Epoch 35/40\n",
      "500/500 [==============================] - 493s 986ms/step - loss: 0.2314 - val_loss: 0.2861\n",
      "Epoch 36/40\n",
      "500/500 [==============================] - 496s 991ms/step - loss: 0.2340 - val_loss: 0.2852\n",
      "Epoch 37/40\n",
      "500/500 [==============================] - 489s 978ms/step - loss: 0.2330 - val_loss: 0.2855\n",
      "Epoch 38/40\n",
      "500/500 [==============================] - 485s 970ms/step - loss: 0.2317 - val_loss: 0.2841\n",
      "Epoch 39/40\n",
      "500/500 [==============================] - 485s 969ms/step - loss: 0.2322 - val_loss: 0.2855\n",
      "Epoch 40/40\n",
      "500/500 [==============================] - 507s 1s/step - loss: 0.2304 - val_loss: 0.2893\n"
     ]
    }
   ],
   "source": [
    "from keras.models import Sequential\n",
    "from keras import layers\n",
    "from keras.optimizers import RMSprop\n",
    "\n",
    "model = Sequential()\n",
    "model.add(layers.GRU(32,\n",
    "                     dropout=0.1,\n",
    "                     recurrent_dropout=0.5,\n",
    "                     return_sequences=True,\n",
    "                     input_shape=(None, float_data.shape[-1])))\n",
    "model.add(layers.GRU(64, activation='relu',\n",
    "                     dropout=0.1, \n",
    "                     recurrent_dropout=0.5))\n",
    "model.add(layers.Dense(1))\n",
    "\n",
    "model.compile(optimizer=RMSprop(), loss='mae')\n",
    "history = model.fit_generator(train_gen,\n",
    "                              steps_per_epoch=500,\n",
    "                              epochs=40,\n",
    "                              validation_data=val_gen,\n",
    "                              validation_steps=val_steps)"
   ]
  },
  {
   "cell_type": "markdown",
   "metadata": {},
   "source": [
    "Let's take a look at our results:"
   ]
  },
  {
   "cell_type": "code",
   "execution_count": 55,
   "metadata": {},
   "outputs": [
    {
     "data": {
      "image/png": "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\n",
      "text/plain": [
       "<Figure size 432x288 with 1 Axes>"
      ]
     },
     "metadata": {},
     "output_type": "display_data"
    }
   ],
   "source": [
    "loss = history.history['loss']\n",
    "val_loss = history.history['val_loss']\n",
    "\n",
    "epochs = range(len(loss))\n",
    "\n",
    "plt.figure()\n",
    "\n",
    "plt.plot(epochs, loss, 'bo', label='Training loss')\n",
    "plt.plot(epochs, val_loss, 'b', label='Validation loss')\n",
    "plt.title('Training and validation loss')\n",
    "plt.legend()\n",
    "\n",
    "plt.show()"
   ]
  },
  {
   "cell_type": "markdown",
   "metadata": {},
   "source": [
    "We can see that the added layers does improve ours results by a bit, albeit not very significantly. We can draw two conclusions:\n",
    "\n",
    "* Since we are still not overfitting too badly, we could safely increase the size of our layers, in quest for a bit of validation loss \n",
    "improvement. This does have a non-negligible computational cost, though. \n",
    "* Since adding a layer did not help us by a significant factor, we may be seeing diminishing returns to increasing network capacity at this \n",
    "point."
   ]
  },
  {
   "cell_type": "markdown",
   "metadata": {},
   "source": [
    "## Using bidirectional RNNs\n",
    "\n",
    "\n",
    "The last technique that we will introduce in this section is called \"bidirectional RNNs\". A bidirectional RNN is common RNN variant which \n",
    "can offer higher performance than a regular RNN on certain tasks. It is frequently used in natural language processing -- you could call it \n",
    "the Swiss army knife of deep learning for NLP.\n",
    "\n",
    "RNNs are notably order-dependent, or time-dependent: they process the timesteps of their input sequences in order, and shuffling or \n",
    "reversing the timesteps can completely change the representations that the RNN will extract from the sequence. This is precisely the reason \n",
    "why they perform well on problems where order is meaningful, such as our temperature forecasting problem. A bidirectional RNN exploits \n",
    "the order-sensitivity of RNNs: it simply consists of two regular RNNs, such as the GRU or LSTM layers that you are already familiar with, \n",
    "each processing input sequence in one direction (chronologically and antichronologically), then merging their representations. By \n",
    "processing a sequence both way, a bidirectional RNN is able to catch patterns that may have been overlooked by a one-direction RNN.\n",
    "\n",
    "Remarkably, the fact that the RNN layers in this section have so far processed sequences in chronological order (older timesteps first) may \n",
    "have been an arbitrary decision. At least, it's a decision we made no attempt at questioning so far. Could it be that our RNNs could have \n",
    "performed well enough if it were processing input sequences in antichronological order, for instance (newer timesteps first)? Let's try \n",
    "this in practice and see what we get. All we need to do is write a variant of our data generator, where the input sequences get reverted \n",
    "along the time dimension (replace the last line with `yield samples[:, ::-1, :], targets`). Training the same one-GRU-layer network as we \n",
    "used in the first experiment in this section, we get the following results:"
   ]
  },
  {
   "cell_type": "code",
   "execution_count": 56,
   "metadata": {},
   "outputs": [],
   "source": [
    "def reverse_order_generator(data, lookback, delay, min_index, max_index,\n",
    "                            shuffle=False, batch_size=128, step=6):\n",
    "    if max_index is None:\n",
    "        max_index = len(data) - delay - 1\n",
    "    i = min_index + lookback\n",
    "    while 1:\n",
    "        if shuffle:\n",
    "            rows = np.random.randint(\n",
    "                min_index + lookback, max_index, size=batch_size)\n",
    "        else:\n",
    "            if i + batch_size >= max_index:\n",
    "                i = min_index + lookback\n",
    "            rows = np.arange(i, min(i + batch_size, max_index))\n",
    "            i += len(rows)\n",
    "\n",
    "        samples = np.zeros((len(rows),\n",
    "                           lookback // step,\n",
    "                           data.shape[-1]))\n",
    "        targets = np.zeros((len(rows),))\n",
    "        for j, row in enumerate(rows):\n",
    "            indices = range(rows[j] - lookback, rows[j], step)\n",
    "            samples[j] = data[indices]\n",
    "            targets[j] = data[rows[j] + delay][1]\n",
    "        yield samples[:, ::-1, :], targets\n",
    "        \n",
    "train_gen_reverse = reverse_order_generator(\n",
    "    float_data,\n",
    "    lookback=lookback,\n",
    "    delay=delay,\n",
    "    min_index=0,\n",
    "    max_index=200000,\n",
    "    shuffle=True,\n",
    "    step=step, \n",
    "    batch_size=batch_size)\n",
    "val_gen_reverse = reverse_order_generator(\n",
    "    float_data,\n",
    "    lookback=lookback,\n",
    "    delay=delay,\n",
    "    min_index=200001,\n",
    "    max_index=300000,\n",
    "    step=step,\n",
    "    batch_size=batch_size)"
   ]
  },
  {
   "cell_type": "code",
   "execution_count": null,
   "metadata": {},
   "outputs": [
    {
     "name": "stdout",
     "output_type": "stream",
     "text": [
      "Epoch 1/20\n",
      " 72/500 [===>..........................] - ETA: 1:47 - loss: 0.5202"
     ]
    }
   ],
   "source": [
    "model = Sequential()\n",
    "model.add(layers.GRU(32, input_shape=(None, float_data.shape[-1])))\n",
    "model.add(layers.Dense(1))\n",
    "\n",
    "model.compile(optimizer=RMSprop(), loss='mae')\n",
    "history = model.fit_generator(train_gen_reverse,\n",
    "                              steps_per_epoch=500,\n",
    "                              epochs=20,\n",
    "                              validation_data=val_gen_reverse,\n",
    "                              validation_steps=val_steps)"
   ]
  },
  {
   "cell_type": "code",
   "execution_count": null,
   "metadata": {},
   "outputs": [],
   "source": [
    "loss = history.history['loss']\n",
    "val_loss = history.history['val_loss']\n",
    "\n",
    "epochs = range(len(loss))\n",
    "\n",
    "plt.figure()\n",
    "\n",
    "plt.plot(epochs, loss, 'bo', label='Training loss')\n",
    "plt.plot(epochs, val_loss, 'b', label='Validation loss')\n",
    "plt.title('Training and validation loss')\n",
    "plt.legend()\n",
    "\n",
    "plt.show()"
   ]
  },
  {
   "cell_type": "markdown",
   "metadata": {},
   "source": [
    "\n",
    "So the reversed-order GRU strongly underperforms even the common-sense baseline, indicating that the in our case chronological processing is very \n",
    "important to the success of our approach. This makes perfect sense: the underlying GRU layer will typically be better at remembering the \n",
    "recent past than the distant past, and naturally the more recent weather data points are more predictive than older data points in our \n",
    "problem (that's precisely what makes the common-sense baseline a fairly strong baseline). Thus the chronological version of the layer is \n",
    "bound to outperform the reversed-order version. Importantly, this is generally not true for many other problems, including natural \n",
    "language: intuitively, the importance of a word in understanding a sentence is not usually dependent on its position in the sentence. Let's \n",
    "try the same trick on the LSTM IMDB example from the previous section:"
   ]
  },
  {
   "cell_type": "code",
   "execution_count": null,
   "metadata": {},
   "outputs": [],
   "source": [
    "from keras.datasets import imdb\n",
    "from keras.preprocessing import sequence\n",
    "from keras import layers\n",
    "from keras.models import Sequential\n",
    "\n",
    "# Number of words to consider as features\n",
    "max_features = 10000\n",
    "# Cut texts after this number of words (among top max_features most common words)\n",
    "maxlen = 500\n",
    "\n",
    "# Load data\n",
    "(x_train, y_train), (x_test, y_test) = imdb.load_data(num_words=max_features)\n",
    "\n",
    "# Reverse sequences\n",
    "x_train = [x[::-1] for x in x_train]\n",
    "x_test = [x[::-1] for x in x_test]\n",
    "\n",
    "# Pad sequences\n",
    "x_train = sequence.pad_sequences(x_train, maxlen=maxlen)\n",
    "x_test = sequence.pad_sequences(x_test, maxlen=maxlen)\n",
    "\n",
    "model = Sequential()\n",
    "model.add(layers.Embedding(max_features, 128))\n",
    "model.add(layers.LSTM(32))\n",
    "model.add(layers.Dense(1, activation='sigmoid'))\n",
    "\n",
    "model.compile(optimizer='rmsprop',\n",
    "              loss='binary_crossentropy',\n",
    "              metrics=['acc'])\n",
    "history = model.fit(x_train, y_train,\n",
    "                    epochs=10,\n",
    "                    batch_size=128,\n",
    "                    validation_split=0.2)"
   ]
  },
  {
   "cell_type": "markdown",
   "metadata": {},
   "source": [
    "\n",
    "We get near-identical performance as the chronological-order LSTM we tried in the previous section.\n",
    "\n",
    "Thus, remarkably, on such a text dataset, reversed-order processing works just as well as chronological processing, confirming our \n",
    "hypothesis that, albeit word order *does* matter in understanding language, *which* order you use isn't crucial. Importantly, a RNN trained \n",
    "on reversed sequences will learn different representations than one trained on the original sequences, in much the same way that you would \n",
    "have quite different mental models if time flowed backwards in the real world -- if you lived a life where you died on your first day and \n",
    "you were born on your last day. In machine learning, representations that are *different* yet *useful* are always worth exploiting, and the \n",
    "more they differ the better: they offer a new angle from which to look at your data, capturing aspects of the data that were missed by other \n",
    "approaches, and thus they can allow to boost performance on a task. This is the intuition behind \"ensembling\", a concept that we will \n",
    "introduce in the next chapter.\n",
    "\n",
    "A bidirectional RNN exploits this idea to improve upon the performance of chronological-order RNNs: it looks at its inputs sequence both \n",
    "ways, obtaining potentially richer representations and capturing patterns that may have been missed by the chronological-order version alone."
   ]
  },
  {
   "cell_type": "markdown",
   "metadata": {},
   "source": [
    "![bidirectional rnn](https://s3.amazonaws.com/book.keras.io/img/ch6/bidirectional_rnn.png)"
   ]
  },
  {
   "cell_type": "markdown",
   "metadata": {},
   "source": [
    "To instantiate a bidirectional RNN in Keras, one would use the `Bidirectional` layer, which takes as first argument a recurrent layer \n",
    "instance. `Bidirectional` will create a second, separate instance of this recurrent layer, and will use one instance for processing the \n",
    "input sequences in chronological order and the other instance for processing the input sequences in reversed order. Let's try it on the \n",
    "IMDB sentiment analysis task:"
   ]
  },
  {
   "cell_type": "code",
   "execution_count": null,
   "metadata": {},
   "outputs": [],
   "source": [
    "from keras import backend as K\n",
    "K.clear_session()"
   ]
  },
  {
   "cell_type": "code",
   "execution_count": null,
   "metadata": {},
   "outputs": [],
   "source": [
    "model = Sequential()\n",
    "model.add(layers.Embedding(max_features, 32))\n",
    "model.add(layers.Bidirectional(layers.LSTM(32)))\n",
    "model.add(layers.Dense(1, activation='sigmoid'))\n",
    "\n",
    "model.compile(optimizer='rmsprop', loss='binary_crossentropy', metrics=['acc'])\n",
    "history = model.fit(x_train, y_train, epochs=10, batch_size=128, validation_split=0.2)"
   ]
  },
  {
   "cell_type": "markdown",
   "metadata": {},
   "source": [
    "It performs slightly better than the regular LSTM we tried in the previous section, going above 88% validation accuracy. It also seems to \n",
    "overfit faster, which is unsurprising since a bidirectional layer has twice more parameters than a chronological LSTM. With some \n",
    "regularization, the bidirectional approach would likely be a strong performer on this task.\n",
    "\n",
    "Now let's try the same approach on the weather prediction task:"
   ]
  },
  {
   "cell_type": "code",
   "execution_count": null,
   "metadata": {},
   "outputs": [],
   "source": [
    "from keras.models import Sequential\n",
    "from keras import layers\n",
    "from keras.optimizers import RMSprop\n",
    "\n",
    "model = Sequential()\n",
    "model.add(layers.Bidirectional(\n",
    "    layers.GRU(32), input_shape=(None, float_data.shape[-1])))\n",
    "model.add(layers.Dense(1))\n",
    "\n",
    "model.compile(optimizer=RMSprop(), loss='mae')\n",
    "history = model.fit_generator(train_gen,\n",
    "                              steps_per_epoch=500,\n",
    "                              epochs=40,\n",
    "                              validation_data=val_gen,\n",
    "                              validation_steps=val_steps)"
   ]
  },
  {
   "cell_type": "markdown",
   "metadata": {},
   "source": [
    "\n",
    "It performs about as well as the regular GRU layer. It's easy to understand why: all of the predictive capacity must be coming from the \n",
    "chronological half of the network, since the anti-chronological half is known to be severely underperforming on this task (again, because \n",
    "the recent past matters much more than the distant past in this case)."
   ]
  },
  {
   "cell_type": "markdown",
   "metadata": {},
   "source": [
    "\n",
    "## Going even further\n",
    "\n",
    "At this stage, there are still many other things you could try in order to improve performance on our weather forecasting problem:\n",
    "\n",
    "* Adjust the number of units in each recurrent layer in the stacked setup. Our current choices are largely arbitrary and thus likely \n",
    "suboptimal.\n",
    "* Adjust the learning rate used by our `RMSprop` optimizer.\n",
    "* Try using `LSTM` layers instead of `GRU` layers.\n",
    "* Try using a bigger densely-connected regressor on top of the recurrent layers, i.e. a bigger `Dense` layer or even a stack of `Dense` \n",
    "layers.\n",
    "* Don't forget to eventually run the best performing models (in terms of validation MAE) on the test set! Least you start developing \n",
    "architectures that are overfitting to the validation set.   \n",
    "\n",
    "As usual: deep learning is more an art than a science, and while we can provide guidelines as to what is likely to work or not work on a \n",
    "given problem, ultimately every problem is unique and you will have to try and evaluate different strategies empirically. There is \n",
    "currently no theory that will tell you in advance precisely what you should do to optimally solve a problem. You must try and iterate.\n",
    "\n",
    "\n",
    "## Wrapping up\n",
    "\n",
    "Here's what you should take away from this section:\n",
    "\n",
    "* As you first learned in Chapter 4, when approaching a new problem, \n",
    "it is good to first establish common sense baselines for your metric of choice. If you don't have a \n",
    "baseline to beat, you can't tell if you are making any real progress.\n",
    "* Try simple models before expensive ones, to justify the additional expense. Sometimes a simple model will turn out to be your best option.\n",
    "* On data where temporal ordering matters, recurrent networks are a great fit and easily outperform models that first flatten the temporal \n",
    "data.\n",
    "* To use dropout with recurrent networks, one should use a time-constant dropout mask and recurrent dropout mask. This is built into Keras \n",
    "recurrent layers, so all you have to do is use the `dropout` and `recurrent_dropout` arguments of recurrent layers.\n",
    "* Stacked RNNs provide more representational power than a single RNN layer. They are also much more expensive, and thus not always worth it. \n",
    "While they offer clear gains on complex problems (e.g. machine translation), they might not always be relevant to smaller, simpler problems.\n",
    "* Bidirectional RNNs, which look at a sequence both ways, are very useful on natural language processing problems. However, they will not \n",
    "be strong performers on sequence data where the recent past is much more informative than the beginning of the sequence.\n",
    "\n",
    "Note there are two important concepts that we will not cover in detail here: recurrent \"attention\", and sequence masking. Both tend to be \n",
    "especially relevant for natural language processing, and are not particularly applicable to our temperature forecasting problem. We will \n",
    "leave them for future study outside of this book."
   ]
  }
 ],
 "metadata": {
  "kernelspec": {
   "display_name": "Python 3",
   "language": "python",
   "name": "python3"
  },
  "language_info": {
   "codemirror_mode": {
    "name": "ipython",
    "version": 3
   },
   "file_extension": ".py",
   "mimetype": "text/x-python",
   "name": "python",
   "nbconvert_exporter": "python",
   "pygments_lexer": "ipython3",
<<<<<<< HEAD
   "version": "3.5.2"
=======
   "version": "3.6.4"
>>>>>>> 6d6a15ee8acc193510f917c63245a3651dec5909
  }
 },
 "nbformat": 4,
 "nbformat_minor": 2
}
