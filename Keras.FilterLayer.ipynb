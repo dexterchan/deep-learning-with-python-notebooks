{
 "cells": [
  {
   "cell_type": "code",
   "execution_count": 1,
   "metadata": {},
   "outputs": [
    {
     "name": "stderr",
     "output_type": "stream",
     "text": [
      "Using TensorFlow backend.\n"
     ]
    },
    {
     "name": "stdout",
     "output_type": "stream",
     "text": [
      "2.2.0\n"
     ]
    }
   ],
   "source": [
    "import keras\n",
    "import numpy as np\n",
    "print (keras.__version__)"
   ]
  },
  {
   "cell_type": "code",
   "execution_count": 2,
   "metadata": {},
   "outputs": [
    {
     "name": "stdout",
     "output_type": "stream",
     "text": [
      "1.9.0\n"
     ]
    }
   ],
   "source": [
    "import tensorflow as tf\n",
    "print (tf.__version__)"
   ]
  },
  {
   "cell_type": "code",
   "execution_count": 3,
   "metadata": {},
   "outputs": [],
   "source": [
    "\n",
    "\n",
    "from keras import backend as K\n",
    "from keras.layers import Input, Dense\n",
    "from keras.models import Model\n",
    "from keras.engine.topology import Layer\n",
    "import numpy as np\n",
    "\n",
    "class MyLayer(Layer):\n",
    "\n",
    "    def __init__(self,output_dim,thre, **kwargs):\n",
    "        self.output_dim = output_dim\n",
    "        self.threshold=thre\n",
    "        super(MyLayer, self).__init__(**kwargs)\n",
    "\n",
    "    def build(self, input_shape):\n",
    "        # Create a trainable weight variable for this layer.\n",
    "        #self.kernel = self.add_weight(name='kernel', shape=(input_shape[1], self.output_dim),initializer='uniform',trainable=True)\n",
    "        super(MyLayer, self).build(input_shape)  # Be sure to call this at the end\n",
    "\n",
    "    def getPaddedFilter(self,myfilter,padNumOfOnes):\n",
    "        numRow = K.shape(myfilter)[0]\n",
    "        \n",
    "        pad = K.ones((numRow,padNumOfOnes))\n",
    "        \n",
    "        myfilter2=K.concatenate( [pad, myfilter],axis=1)\n",
    "        \n",
    "        return myfilter2\n",
    "        \n",
    "    def call(self, x):\n",
    "        myfilter = x[1]\n",
    "        value = x[0]\n",
    "        \n",
    "        inputDim=K.shape(value)[-1]\n",
    "        filterDim = K.shape(myfilter)[-1]\n",
    "        \n",
    "        #if inputDim > filterDim, pad 1 on the left of filter\n",
    "        padDim = K.switch(K.less(filterDim,inputDim),inputDim-filterDim,0 )\n",
    "        myfilter=self.getPaddedFilter(myfilter,padDim)\n",
    "        #if inputDim < filterDim, shift filter left \n",
    "        shiftLeft = K.switch(K.greater(filterDim,inputDim) ,filterDim-inputDim,0)\n",
    "        myfilter2 = myfilter[:,shiftLeft:]\n",
    "        \n",
    "        myfilter2=K.cast(myfilter2,\"float32\")\n",
    "        myfilter2=K.abs(myfilter2)\n",
    "        myfilter2=myfilter2>self.threshold\n",
    "        myfilter2=K.cast(myfilter2,\"float32\")\n",
    "        \n",
    "        #return padDim\n",
    "        return (value*myfilter2)\n",
    "        #return myfilter2\n",
    "\n",
    "    def compute_output_shape(self, input_shape):\n",
    "        return (input_shape[0], self.output_dim)\n",
    "    \n",
    "    \n",
    "    \n",
    "longestTenor=40    \n",
    "inputsize=7\n",
    "filtersize=inputsize\n",
    "outputsize=4\n",
    "inputs = Input(shape=(inputsize,))\n",
    "mask=Input(shape=(filtersize,))\n",
    "x = Dense(10, activation=\"relu\",kernel_initializer=\"one\")(inputs)\n",
    "predict = Dense(inputsize, activation=\"relu\",kernel_initializer=\"one\")(x)\n",
    "predict = Dense(outputsize, activation=\"relu\",kernel_initializer=\"one\")(x)\n",
    "predict=MyLayer(outputsize,np.exp(-1*longestTenor).astype(\"float32\"))([predict,mask])\n",
    "\n",
    "model = Model(inputs=[inputs,mask], outputs=predict)"
   ]
  },
  {
   "cell_type": "code",
   "execution_count": 4,
   "metadata": {},
   "outputs": [],
   "source": [
    "model.compile(optimizer=\"rmsprop\",loss=\"mse\",metrics=[\"mae\"])"
   ]
  },
  {
   "cell_type": "code",
   "execution_count": 5,
   "metadata": {},
   "outputs": [],
   "source": [
    "ii = np.array([[200,3,5,6,0,1,0]\n",
    "               ,[-1,2,0.0001,0,5,6,8]\n",
    "              ])\n",
    "output = np.ones(shape=(2,outputsize))\n",
    "mask_=ii\n",
    "#mask_ = ii[:,inputsize-filtersize:]\n",
    "#mask_ = np.concatenate( [np.zeros((2,filtersize-inputsize)),ii],axis=1)\n",
    "\n",
    "#k=model.predict([ii.reshape(-1,inputsize),mask_.reshape(-1,filtersize)])"
   ]
  },
  {
   "cell_type": "code",
   "execution_count": 6,
   "metadata": {},
   "outputs": [
    {
     "name": "stdout",
     "output_type": "stream",
     "text": [
      "Epoch 1/5\n",
      "2/2 [==============================] - 0s 80ms/step - loss: 1169401.1250 - mean_absolute_error: 612.2504\n",
      "Epoch 2/5\n",
      "2/2 [==============================] - 0s 1ms/step - loss: 1154629.8750 - mean_absolute_error: 608.3611\n",
      "Epoch 3/5\n",
      "2/2 [==============================] - 0s 970us/step - loss: 1144048.7500 - mean_absolute_error: 605.5599\n",
      "Epoch 4/5\n",
      "2/2 [==============================] - 0s 1ms/step - loss: 1135269.5000 - mean_absolute_error: 603.2258\n",
      "Epoch 5/5\n",
      "2/2 [==============================] - 0s 788us/step - loss: 1127533.2500 - mean_absolute_error: 601.1616\n"
     ]
    }
   ],
   "source": [
    "#history = model.fit(x=[ii.reshape(-1,inputsize),mask_.reshape(-1,filtersize)],y=ii,epochs=5)\n",
    "history = model.fit(x=[ii,mask_],y=output,epochs=5)"
   ]
  },
  {
   "cell_type": "code",
   "execution_count": 7,
   "metadata": {},
   "outputs": [],
   "source": [
    "k=model.predict([ii.reshape(-1,inputsize),mask_.reshape(-1,filtersize)])"
   ]
  },
  {
   "cell_type": "code",
   "execution_count": 8,
   "metadata": {},
   "outputs": [
    {
     "data": {
      "text/plain": [
       "array([[2104.5962 ,    0.     , 2104.5962 ,    0.     ],\n",
       "       [   0.     ,  195.67328,  195.67288,  195.67328]], dtype=float32)"
      ]
     },
     "execution_count": 8,
     "metadata": {},
     "output_type": "execute_result"
    }
   ],
   "source": [
    "k"
   ]
  },
  {
   "cell_type": "code",
   "execution_count": null,
   "metadata": {},
   "outputs": [],
   "source": [
    "raw_k"
   ]
  },
  {
   "cell_type": "code",
   "execution_count": null,
   "metadata": {},
   "outputs": [],
   "source": [
    "model.summary()"
   ]
  },
  {
   "cell_type": "code",
   "execution_count": null,
   "metadata": {},
   "outputs": [],
   "source": [
    "p=np.ones((2,0))\n",
    "v = np.random.randint(2,5,size=(2,3))\n",
    "np.concatenate([p,v],axis=1)[:,:10]"
   ]
  },
  {
   "cell_type": "code",
   "execution_count": null,
   "metadata": {},
   "outputs": [],
   "source": [
    "\n",
    "\n",
    "ii = np.array([[2,3,5,6,0,0,0],[1,2,3,4,5,6,7]])\n",
    "#mask_ = ii[:,inputsize-filtersize:]\n",
    "mask_ = np.concatenate( [ii, np.zeros((2,2))],axis=1)\n",
    "mask_"
   ]
  },
  {
   "cell_type": "code",
   "execution_count": null,
   "metadata": {},
   "outputs": [],
   "source": [
    "from keras.layers import Activation, Dense\n",
    "from keras.layers import Multiply\n",
    "class MaskedDenseLayer(Layer):\n",
    "    def __init__(self, output_dim, activation, **kwargs):\n",
    "        self.output_dim = output_dim\n",
    "        super(MaskedDenseLayer, self).__init__(**kwargs)\n",
    "        self._activation = Activation(activation)\n",
    "    def build(self, input_shape):\n",
    "        # Create a trainable weight variable for this layer.\n",
    "        self.kernel = self.add_weight(name='kernel', \n",
    "                                      shape=(input_shape[0][1], self.output_dim),\n",
    "                                      initializer='glorot_uniform',\n",
    "                                      trainable=True)\n",
    "        super(MaskedDenseLayer, self).build(input_shape)  # Be sure to call this somewhere!\n",
    "\n",
    "    def call(self, l):\n",
    "        self.x = l[0]\n",
    "        self._mask = l[1][1]\n",
    "        print('self._mask', self._mask)\n",
    "        kernel_shape = K.shape(self.kernel).eval(session=K.get_session())\n",
    "        \n",
    "        masked = Multiply()([self.kernel, self._mask])\n",
    "        self._output = K.dot(self.x, masked)\n",
    "        return self._activation(self._output)\n",
    "\n",
    "    \n",
    "    def compute_output_shape(self, input_shape):\n",
    "        return (input_shape[0][0], self.output_dim)"
   ]
  },
  {
   "cell_type": "code",
   "execution_count": null,
   "metadata": {},
   "outputs": [],
   "source": [
    "5//2"
   ]
  },
  {
   "cell_type": "code",
   "execution_count": null,
   "metadata": {},
   "outputs": [],
   "source": [
    "import numpy as np\n",
    "x = np.arange(1,10)"
   ]
  },
  {
   "cell_type": "code",
   "execution_count": null,
   "metadata": {},
   "outputs": [],
   "source": [
    "x[::-1]"
   ]
  },
  {
   "cell_type": "code",
   "execution_count": null,
   "metadata": {},
   "outputs": [],
   "source": [
    "from Crypto.Hash import SHA256"
   ]
  },
  {
   "cell_type": "code",
   "execution_count": null,
   "metadata": {},
   "outputs": [],
   "source": [
    "hash = SHA256.new()"
   ]
  },
  {
   "cell_type": "code",
   "execution_count": null,
   "metadata": {},
   "outputs": [],
   "source": [
    "hash.update(b'How are you')"
   ]
  },
  {
   "cell_type": "code",
   "execution_count": null,
   "metadata": {},
   "outputs": [],
   "source": [
    "hash.digest()"
   ]
  },
  {
   "cell_type": "code",
   "execution_count": null,
   "metadata": {},
   "outputs": [],
   "source": [
    "import cx_Oracle"
   ]
  },
  {
   "cell_type": "code",
   "execution_count": null,
   "metadata": {},
   "outputs": [],
   "source": [
    "import keras"
   ]
  },
  {
   "cell_type": "code",
   "execution_count": null,
   "metadata": {},
   "outputs": [],
   "source": [
    "l = np.reshape( np.array ([ 1, 2, 3]), (-1,3))"
   ]
  },
  {
   "cell_type": "code",
   "execution_count": null,
   "metadata": {},
   "outputs": [],
   "source": [
    "l"
   ]
  },
  {
   "cell_type": "code",
   "execution_count": null,
   "metadata": {},
   "outputs": [],
   "source": [
    "np.reshape(l,(-1))"
   ]
  },
  {
   "cell_type": "code",
   "execution_count": null,
   "metadata": {},
   "outputs": [],
   "source": [
    "np.exp(-40).astype(\"float32\")"
   ]
  },
  {
   "cell_type": "code",
   "execution_count": null,
   "metadata": {},
   "outputs": [],
   "source": [
    "np.exp(-40).astype(\"float64\")"
   ]
  },
  {
   "cell_type": "code",
   "execution_count": null,
   "metadata": {},
   "outputs": [],
   "source": []
  }
 ],
 "metadata": {
  "kernelspec": {
   "display_name": "Python 3",
   "language": "python",
   "name": "python3"
  },
  "language_info": {
   "codemirror_mode": {
    "name": "ipython",
    "version": 3
   },
   "file_extension": ".py",
   "mimetype": "text/x-python",
   "name": "python",
   "nbconvert_exporter": "python",
   "pygments_lexer": "ipython3",
   "version": "3.5.2"
  }
 },
 "nbformat": 4,
 "nbformat_minor": 2
}
