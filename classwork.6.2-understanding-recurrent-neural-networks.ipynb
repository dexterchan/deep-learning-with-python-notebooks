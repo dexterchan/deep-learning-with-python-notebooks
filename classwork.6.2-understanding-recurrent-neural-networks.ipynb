{
 "cells": [
  {
   "cell_type": "code",
   "execution_count": 1,
   "metadata": {},
   "outputs": [
    {
     "name": "stderr",
     "output_type": "stream",
     "text": [
      "Using TensorFlow backend.\n"
     ]
    },
    {
     "data": {
      "text/plain": [
       "'2.1.5'"
      ]
     },
     "execution_count": 1,
     "metadata": {},
     "output_type": "execute_result"
    }
   ],
   "source": [
    "import keras\n",
    "keras.__version__"
   ]
  },
  {
   "cell_type": "markdown",
   "metadata": {},
   "source": [
    "# Illustrate RNN by a simple Numpy implementation"
   ]
  },
  {
   "cell_type": "code",
   "execution_count": 2,
   "metadata": {},
   "outputs": [],
   "source": [
    "import numpy as np"
   ]
  },
  {
   "cell_type": "code",
   "execution_count": 3,
   "metadata": {},
   "outputs": [],
   "source": [
    "timesteps=100\n",
    "input_features=32\n",
    "output_features=64\n",
    "\n",
    "inputs=np.random.random( size=(timesteps,input_features)  )\n",
    "state_t = np.zeros((output_features,))\n",
    "W = np.random.random((output_features,input_features))\n",
    "U = np.random.random((output_features,output_features))\n",
    "b= np.random.random((output_features))\n",
    "\n",
    "successive_outputs=[]\n",
    "\n",
    "for input_t in inputs:\n",
    "    output_t = np.tanh(np.dot(W,input_t)+np.dot(U,state_t)+b)\n",
    "    successive_outputs.append(output_t)\n",
    "    state_t=output_t\n",
    "final_output_sequence = np.concatenate(successive_outputs,axis=0)\n"
   ]
  },
  {
   "cell_type": "code",
   "execution_count": 4,
   "metadata": {},
   "outputs": [
    {
     "data": {
      "text/plain": [
       "array([ 0.9999999 ,  0.99999995,  0.99999988, ...,  1.        ,\n",
       "        1.        ,  1.        ])"
      ]
     },
     "execution_count": 4,
     "metadata": {},
     "output_type": "execute_result"
    }
   ],
   "source": [
    "final_output_sequence"
   ]
  },
  {
   "cell_type": "code",
   "execution_count": 5,
   "metadata": {},
   "outputs": [],
   "source": [
    "timesteps=100\n",
    "input_features=32\n",
    "output_features=64\n",
    "\n",
    "inputs=np.random.random( size=(timesteps,input_features)  )\n",
    "state_t = np.zeros((output_features,))\n",
    "W = np.random.random((input_features,output_features))\n",
    "U = np.random.random((output_features,output_features))\n",
    "b= np.random.random((output_features))\n",
    "\n",
    "successive_outputs=[]\n",
    "#final_output_sequence=[]\n",
    "for input_t in inputs:\n",
    "    output_t = np.tanh(np.dot(input_t,W)+np.dot(state_t,U)+b)\n",
    "    successive_outputs.append(output_t)\n",
    "    state_t=output_t\n",
    "final_output_sequence=np.concatenate(successive_outputs,axis=0)"
   ]
  },
  {
   "cell_type": "code",
   "execution_count": 6,
   "metadata": {},
   "outputs": [
    {
     "data": {
      "text/plain": [
       "[array([ 0.99999998,  1.        ,  0.99999999,  1.        ,  0.99999937,\n",
       "         0.99999981,  0.99999999,  0.99999983,  1.        ,  1.        ,\n",
       "         1.        ,  1.        ,  0.99999999,  1.        ,  0.99999999,\n",
       "         1.        ,  0.99999999,  1.        ,  1.        ,  0.99999999,\n",
       "         1.        ,  0.99999997,  1.        ,  0.99999996,  1.        ,\n",
       "         0.9999999 ,  0.99999986,  0.9999999 ,  0.99999906,  0.99999998,\n",
       "         1.        ,  1.        ,  0.99999999,  0.99999999,  0.99999999,\n",
       "         1.        ,  1.        ,  0.99999943,  1.        ,  0.99999993,\n",
       "         1.        ,  1.        ,  0.99999996,  1.        ,  1.        ,\n",
       "         0.99999998,  0.99999999,  0.99999998,  0.99999991,  1.        ,\n",
       "         1.        ,  0.99999998,  1.        ,  0.99999999,  1.        ,\n",
       "         0.99999997,  1.        ,  0.99999999,  1.        ,  1.        ,\n",
       "         0.99999998,  1.        ,  1.        ,  0.99999998]),\n",
       " array([ 1.,  1.,  1.,  1.,  1.,  1.,  1.,  1.,  1.,  1.,  1.,  1.,  1.,\n",
       "         1.,  1.,  1.,  1.,  1.,  1.,  1.,  1.,  1.,  1.,  1.,  1.,  1.,\n",
       "         1.,  1.,  1.,  1.,  1.,  1.,  1.,  1.,  1.,  1.,  1.,  1.,  1.,\n",
       "         1.,  1.,  1.,  1.,  1.,  1.,  1.,  1.,  1.,  1.,  1.,  1.,  1.,\n",
       "         1.,  1.,  1.,  1.,  1.,  1.,  1.,  1.,  1.,  1.,  1.,  1.])]"
      ]
     },
     "execution_count": 6,
     "metadata": {},
     "output_type": "execute_result"
    }
   ],
   "source": [
    "successive_outputs[:2]"
   ]
  },
  {
   "cell_type": "markdown",
   "metadata": {},
   "source": [
    "# Understanding recurrent neural networks\n",
    "\n",
    "This notebook contains the code samples found in Chapter 6, Section 2 of [Deep Learning with Python](https://www.manning.com/books/deep-learning-with-python?a_aid=keras&a_bid=76564dff). Note that the original text features far more content, in particular further explanations and figures: in this notebook, you will only find source code and related comments.\n",
    "\n",
    "---\n",
    "\n",
    "[...]\n",
    "\n",
    "![SimpleRNN](image/SimpleRnn.png)\n",
    "\n",
    "\n",
    "## A first recurrent layer in Keras\n",
    "\n",
    "The process we just naively implemented in Numpy corresponds to an actual Keras layer: the `SimpleRNN` layer:\n"
   ]
  },
  {
   "cell_type": "code",
   "execution_count": 7,
   "metadata": {},
   "outputs": [],
   "source": [
    "from keras.layers import SimpleRNN"
   ]
  },
  {
   "cell_type": "markdown",
   "metadata": {},
   "source": [
    "There is just one minor difference: `SimpleRNN` processes batches of sequences, like all other Keras layers, not just a single sequence like \n",
    "in our Numpy example. This means that it takes inputs of shape `(batch_size, timesteps, input_features)`, rather than `(timesteps, \n",
    "input_features)`.\n",
    "\n",
    "Like all recurrent layers in Keras, `SimpleRNN` can be run in two different modes: it can return either the full sequences of successive \n",
    "outputs for each timestep (a 3D tensor of shape `(batch_size, timesteps, output_features)`), or it can return only the last output for each \n",
    "input sequence (a 2D tensor of shape `(batch_size, output_features)`). These two modes are controlled by the `return_sequences` constructor \n",
    "argument. Let's take a look at an example:"
   ]
  },
  {
   "cell_type": "code",
   "execution_count": 8,
   "metadata": {},
   "outputs": [
    {
     "name": "stdout",
     "output_type": "stream",
     "text": [
      "_________________________________________________________________\n",
      "Layer (type)                 Output Shape              Param #   \n",
      "=================================================================\n",
      "embedding_1 (Embedding)      (None, None, 32)          320000    \n",
      "_________________________________________________________________\n",
      "simple_rnn_1 (SimpleRNN)     (None, 32)                2080      \n",
      "=================================================================\n",
      "Total params: 322,080\n",
      "Trainable params: 322,080\n",
      "Non-trainable params: 0\n",
      "_________________________________________________________________\n"
     ]
    }
   ],
   "source": [
    "from keras.models import Sequential\n",
    "from keras.layers import Embedding, SimpleRNN\n",
    "\n",
    "model = Sequential()\n",
    "model.add(Embedding(10000, 32))\n",
    "model.add(SimpleRNN(32))\n",
    "model.summary()"
   ]
  },
  {
   "cell_type": "code",
   "execution_count": 9,
   "metadata": {},
   "outputs": [
    {
     "name": "stdout",
     "output_type": "stream",
     "text": [
      "_________________________________________________________________\n",
      "Layer (type)                 Output Shape              Param #   \n",
      "=================================================================\n",
      "embedding_2 (Embedding)      (None, None, 32)          320000    \n",
      "_________________________________________________________________\n",
      "simple_rnn_2 (SimpleRNN)     (None, None, 32)          2080      \n",
      "=================================================================\n",
      "Total params: 322,080\n",
      "Trainable params: 322,080\n",
      "Non-trainable params: 0\n",
      "_________________________________________________________________\n"
     ]
    }
   ],
   "source": [
    "model = Sequential()\n",
    "model.add(Embedding(10000, 32))\n",
    "model.add(SimpleRNN(32, return_sequences=True))\n",
    "model.summary()"
   ]
  },
  {
   "cell_type": "markdown",
   "metadata": {},
   "source": [
    "It is sometimes useful to stack several recurrent layers one after the other in order to increase the representational power of a network. \n",
    "In such a setup, you have to get all intermediate layers to return full sequences:"
   ]
  },
  {
   "cell_type": "code",
   "execution_count": 10,
   "metadata": {},
   "outputs": [
    {
     "name": "stdout",
     "output_type": "stream",
     "text": [
      "_________________________________________________________________\n",
      "Layer (type)                 Output Shape              Param #   \n",
      "=================================================================\n",
      "embedding_3 (Embedding)      (None, None, 32)          320000    \n",
      "_________________________________________________________________\n",
      "simple_rnn_3 (SimpleRNN)     (None, None, 32)          2080      \n",
      "_________________________________________________________________\n",
      "simple_rnn_4 (SimpleRNN)     (None, None, 32)          2080      \n",
      "_________________________________________________________________\n",
      "simple_rnn_5 (SimpleRNN)     (None, None, 32)          2080      \n",
      "_________________________________________________________________\n",
      "simple_rnn_6 (SimpleRNN)     (None, 32)                2080      \n",
      "=================================================================\n",
      "Total params: 328,320\n",
      "Trainable params: 328,320\n",
      "Non-trainable params: 0\n",
      "_________________________________________________________________\n"
     ]
    }
   ],
   "source": [
    "model = Sequential()\n",
    "model.add(Embedding(10000, 32))\n",
    "model.add(SimpleRNN(32, return_sequences=True))\n",
    "model.add(SimpleRNN(32, return_sequences=True))\n",
    "model.add(SimpleRNN(32, return_sequences=True))\n",
    "model.add(SimpleRNN(32))  # This last layer only returns the last outputs.\n",
    "model.summary()"
   ]
  },
  {
   "cell_type": "markdown",
   "metadata": {},
   "source": [
    "Now let's try to use such a model on the IMDB movie review classification problem. First, let's preprocess the data:"
   ]
  },
  {
   "cell_type": "code",
   "execution_count": 11,
   "metadata": {},
   "outputs": [
    {
     "name": "stdout",
     "output_type": "stream",
     "text": [
      "Loading data...\n",
      "Downloading data from https://s3.amazonaws.com/text-datasets/imdb.npz\n",
      "17465344/17464789 [==============================] - 1s 0us/step\n",
      "25000 train sequences\n",
      "25000 test sequences\n",
      "Pad sequences (samples x time)\n",
      "input_train shape: (25000, 500)\n",
      "input_test shape: (25000, 500)\n"
     ]
    }
   ],
   "source": [
    "from keras.datasets import imdb\n",
    "from keras.preprocessing import sequence\n",
    "\n",
    "max_features = 10000  # number of words to consider as features\n",
    "maxlen = 500  # cut texts after this number of words (among top max_features most common words)\n",
    "batch_size = 32\n",
    "\n",
    "print('Loading data...')\n",
    "(input_train, y_train), (input_test, y_test) = imdb.load_data(num_words=max_features)\n",
    "print(len(input_train), 'train sequences')\n",
    "print(len(input_test), 'test sequences')\n",
    "\n",
    "print('Pad sequences (samples x time)')\n",
    "input_train = sequence.pad_sequences(input_train, maxlen=maxlen)\n",
    "input_test = sequence.pad_sequences(input_test, maxlen=maxlen)\n",
    "print('input_train shape:', input_train.shape)\n",
    "print('input_test shape:', input_test.shape)"
   ]
  },
  {
   "cell_type": "markdown",
   "metadata": {},
   "source": [
    "Let's train a simple recurrent network using an `Embedding` layer and a `SimpleRNN` layer:"
   ]
  },
  {
   "cell_type": "code",
   "execution_count": 12,
   "metadata": {},
   "outputs": [
    {
     "name": "stdout",
     "output_type": "stream",
     "text": [
      "Train on 20000 samples, validate on 5000 samples\n",
      "Epoch 1/10\n",
      "20000/20000 [==============================] - 45s 2ms/step - loss: 0.6358 - acc: 0.6239 - val_loss: 0.4910 - val_acc: 0.7806\n",
      "Epoch 2/10\n",
      "20000/20000 [==============================] - 44s 2ms/step - loss: 0.4103 - acc: 0.8238 - val_loss: 0.3848 - val_acc: 0.8368\n",
      "Epoch 3/10\n",
      "20000/20000 [==============================] - 43s 2ms/step - loss: 0.2894 - acc: 0.8855 - val_loss: 0.3504 - val_acc: 0.8556\n",
      "Epoch 4/10\n",
      "20000/20000 [==============================] - 44s 2ms/step - loss: 0.2080 - acc: 0.9224 - val_loss: 0.4972 - val_acc: 0.8060\n",
      "Epoch 5/10\n",
      "20000/20000 [==============================] - 43s 2ms/step - loss: 0.1509 - acc: 0.9450 - val_loss: 0.3930 - val_acc: 0.8494\n",
      "Epoch 6/10\n",
      "20000/20000 [==============================] - 45s 2ms/step - loss: 0.0958 - acc: 0.9669 - val_loss: 0.5248 - val_acc: 0.7920\n",
      "Epoch 7/10\n",
      "20000/20000 [==============================] - 45s 2ms/step - loss: 0.0638 - acc: 0.9797 - val_loss: 0.5100 - val_acc: 0.8190\n",
      "Epoch 8/10\n",
      "20000/20000 [==============================] - 44s 2ms/step - loss: 0.0373 - acc: 0.9882 - val_loss: 0.6695 - val_acc: 0.7714\n",
      "Epoch 9/10\n",
      "20000/20000 [==============================] - 44s 2ms/step - loss: 0.0250 - acc: 0.9933 - val_loss: 0.5879 - val_acc: 0.8398\n",
      "Epoch 10/10\n",
      "20000/20000 [==============================] - 45s 2ms/step - loss: 0.0173 - acc: 0.9952 - val_loss: 0.7415 - val_acc: 0.8212\n"
     ]
    }
   ],
   "source": [
    "from keras.layers import Dense\n",
    "\n",
    "model = Sequential()\n",
    "model.add(Embedding(max_features, 32))\n",
    "model.add(SimpleRNN(32))\n",
    "model.add(Dense(1, activation='sigmoid'))\n",
    "\n",
    "model.compile(optimizer='rmsprop', loss='binary_crossentropy', metrics=['acc'])\n",
    "history = model.fit(input_train, y_train,\n",
    "                    epochs=10,\n",
    "                    batch_size=128,\n",
    "                    validation_split=0.2)"
   ]
  },
  {
   "cell_type": "markdown",
   "metadata": {},
   "source": [
    "Let's display the training and validation loss and accuracy:"
   ]
  },
  {
   "cell_type": "code",
   "execution_count": 18,
   "metadata": {},
   "outputs": [
    {
     "data": {
      "image/png": "[encoded data removed]",
      "text/plain": [
       "<Figure size 432x288 with 1 Axes>"
      ]
     },
     "metadata": {},
     "output_type": "display_data"
    },
    {
     "data": {
      "image/png": "[encoded data removed]",
      "text/plain": [
       "<Figure size 432x288 with 1 Axes>"
      ]
     },
     "metadata": {},
     "output_type": "display_data"
    }
   ],
   "source": [
    "import matplotlib.pyplot as plt\n",
    "\n",
    "acc = history.history['acc']\n",
    "val_acc = history.history['val_acc']\n",
    "loss = history.history['loss']\n",
    "val_loss = history.history['val_loss']\n",
    "\n",
    "epochs = range(len(acc))\n",
    "\n",
    "plt.plot(epochs, acc, 'bo', label='Training acc')\n",
    "plt.plot(epochs, val_acc, 'b', label='Validation acc')\n",
    "plt.title('Training and validation accuracy')\n",
    "plt.legend()\n",
    "\n",
    "plt.figure()\n",
    "\n",
    "plt.plot(epochs, loss, 'bo', label='Training loss')\n",
    "plt.plot(epochs, val_loss, 'b', label='Validation loss')\n",
    "plt.title('Training and validation loss')\n",
    "plt.legend()\n",
    "\n",
    "plt.show()"
   ]
  },
  {
   "cell_type": "code",
   "execution_count": 14,
   "metadata": {},
   "outputs": [
    {
     "name": "stdout",
     "output_type": "stream",
     "text": [
      "Train on 20000 samples, validate on 5000 samples\n",
      "Epoch 1/10\n",
      "20000/20000 [==============================] - 45s 2ms/step - loss: 0.6121 - acc: 0.6481 - val_loss: 0.4507 - val_acc: 0.8078\n",
      "Epoch 2/10\n",
      "20000/20000 [==============================] - 45s 2ms/step - loss: 0.3914 - acc: 0.8351 - val_loss: 0.3622 - val_acc: 0.8454\n",
      "Epoch 3/10\n",
      "20000/20000 [==============================] - 44s 2ms/step - loss: 0.2880 - acc: 0.8853 - val_loss: 0.3452 - val_acc: 0.8578\n",
      "Epoch 4/10\n",
      "20000/20000 [==============================] - 43s 2ms/step - loss: 0.2336 - acc: 0.9108 - val_loss: 0.3475 - val_acc: 0.8556\n",
      "Epoch 5/10\n",
      "20000/20000 [==============================] - 44s 2ms/step - loss: 0.1874 - acc: 0.9293 - val_loss: 0.3861 - val_acc: 0.8456\n",
      "Epoch 6/10\n",
      "20000/20000 [==============================] - 43s 2ms/step - loss: 0.1293 - acc: 0.9541 - val_loss: 0.4313 - val_acc: 0.8382\n",
      "Epoch 7/10\n",
      "20000/20000 [==============================] - 44s 2ms/step - loss: 0.0862 - acc: 0.9718 - val_loss: 0.5296 - val_acc: 0.8474\n",
      "Epoch 8/10\n",
      "20000/20000 [==============================] - 44s 2ms/step - loss: 0.0572 - acc: 0.9819 - val_loss: 0.6295 - val_acc: 0.7816\n",
      "Epoch 9/10\n",
      "20000/20000 [==============================] - 43s 2ms/step - loss: 0.0351 - acc: 0.9890 - val_loss: 0.5703 - val_acc: 0.8494\n",
      "Epoch 10/10\n",
      "20000/20000 [==============================] - 46s 2ms/step - loss: 0.0232 - acc: 0.9938 - val_loss: 0.6037 - val_acc: 0.8326\n"
     ]
    }
   ],
   "source": [
    "from keras.layers import Dense\n",
    "\n",
    "model = Sequential()\n",
    "model.add(Embedding(max_features, 32,input_length=maxlen))\n",
    "model.add(SimpleRNN(32))\n",
    "model.add(Dense(1, activation='sigmoid'))\n",
    "\n",
    "model.compile(optimizer='rmsprop', loss='binary_crossentropy', metrics=['acc'])\n",
    "history = model.fit(input_train, y_train,\n",
    "                    epochs=10,\n",
    "                    batch_size=128,\n",
    "                    validation_split=0.2)"
   ]
  },
  {
   "cell_type": "code",
   "execution_count": 15,
   "metadata": {},
   "outputs": [
    {
     "name": "stdout",
     "output_type": "stream",
     "text": [
      "_________________________________________________________________\n",
      "Layer (type)                 Output Shape              Param #   \n",
      "=================================================================\n",
      "embedding_5 (Embedding)      (None, 500, 32)           320000    \n",
      "_________________________________________________________________\n",
      "simple_rnn_8 (SimpleRNN)     (None, 32)                2080      \n",
      "_________________________________________________________________\n",
      "dense_2 (Dense)              (None, 1)                 33        \n",
      "=================================================================\n",
      "Total params: 322,113\n",
      "Trainable params: 322,113\n",
      "Non-trainable params: 0\n",
      "_________________________________________________________________\n"
     ]
    }
   ],
   "source": [
    "model.summary()"
   ]
  },
  {
   "cell_type": "markdown",
   "metadata": {},
   "source": [
    "As a reminder, in chapter 3, our very first naive approach to this very dataset got us to 88% test accuracy. Unfortunately, our small \n",
    "recurrent network doesn't perform very well at all compared to this baseline (only up to 85% validation accuracy). Part of the problem is \n",
    "that our inputs only consider the first 500 words rather the full sequences -- \n",
    "hence our RNN has access to less information than our earlier baseline model. The remainder of the problem is simply that `SimpleRNN` isn't very good at processing long sequences, like text. Other types of recurrent layers perform much better. Let's take a look at some \n",
    "more advanced layers."
   ]
  },
  {
   "cell_type": "markdown",
   "metadata": {},
   "source": [
    "[...]\n",
    "\n",
    "## A concrete LSTM example in Keras\n",
    "\n",
    "Now let's switch to more practical concerns: we will set up a model using a LSTM layer and train it on the IMDB data. Here's the network, \n",
    "similar to the one with `SimpleRNN` that we just presented. We only specify the output dimensionality of the LSTM layer, and leave every \n",
    "other argument (there are lots) to the Keras defaults. Keras has good defaults, and things will almost always \"just work\" without you \n",
    "having to spend time tuning parameters by hand."
   ]
  },
  {
   "cell_type": "markdown",
   "metadata": {},
   "source": [
    "![LTSM](image/LTSM.png)\n",
    "![LTSM Carry](image/CarryCalculation_3Transofromation.png)"
   ]
  },
  {
   "cell_type": "code",
   "execution_count": 16,
   "metadata": {},
   "outputs": [
    {
     "name": "stdout",
     "output_type": "stream",
     "text": [
      "Train on 20000 samples, validate on 5000 samples\n",
      "Epoch 1/10\n",
      "20000/20000 [==============================] - 124s 6ms/step - loss: 0.5021 - acc: 0.7618 - val_loss: 0.3687 - val_acc: 0.8528\n",
      "Epoch 2/10\n",
      "20000/20000 [==============================] - 125s 6ms/step - loss: 0.3192 - acc: 0.8755 - val_loss: 0.4512 - val_acc: 0.8180\n",
      "Epoch 3/10\n",
      "20000/20000 [==============================] - 125s 6ms/step - loss: 0.2411 - acc: 0.9093 - val_loss: 0.3166 - val_acc: 0.8632\n",
      "Epoch 4/10\n",
      "20000/20000 [==============================] - 126s 6ms/step - loss: 0.2094 - acc: 0.9236 - val_loss: 0.3793 - val_acc: 0.8620\n",
      "Epoch 5/10\n",
      "20000/20000 [==============================] - 123s 6ms/step - loss: 0.1783 - acc: 0.9345 - val_loss: 0.3300 - val_acc: 0.8812\n",
      "Epoch 6/10\n",
      "20000/20000 [==============================] - 123s 6ms/step - loss: 0.1608 - acc: 0.9422 - val_loss: 0.3141 - val_acc: 0.8612\n",
      "Epoch 7/10\n",
      "20000/20000 [==============================] - 124s 6ms/step - loss: 0.1461 - acc: 0.9489 - val_loss: 0.4161 - val_acc: 0.8400\n",
      "Epoch 8/10\n",
      "20000/20000 [==============================] - 123s 6ms/step - loss: 0.1385 - acc: 0.9510 - val_loss: 0.3215 - val_acc: 0.8882\n",
      "Epoch 9/10\n",
      "20000/20000 [==============================] - 124s 6ms/step - loss: 0.1270 - acc: 0.9570 - val_loss: 0.3383 - val_acc: 0.8596\n",
      "Epoch 10/10\n",
      "20000/20000 [==============================] - 125s 6ms/step - loss: 0.1173 - acc: 0.9614 - val_loss: 0.3529 - val_acc: 0.8754\n"
     ]
    }
   ],
   "source": [
    "from keras.layers import LSTM\n",
    "\n",
    "model = Sequential()\n",
    "model.add(Embedding(max_features, 32))\n",
    "model.add(LSTM(32))\n",
    "model.add(Dense(1, activation='sigmoid'))\n",
    "\n",
    "model.compile(optimizer='rmsprop',\n",
    "              loss='binary_crossentropy',\n",
    "              metrics=['acc'])\n",
    "history = model.fit(input_train, y_train,\n",
    "                    epochs=10,\n",
    "                    batch_size=128,\n",
    "                    validation_split=0.2)"
   ]
  },
  {
   "cell_type": "code",
   "execution_count": 17,
   "metadata": {},
   "outputs": [
    {
     "data": {
      "image/png": "[encoded data removed]",
      "text/plain": [
       "<Figure size 432x288 with 1 Axes>"
      ]
     },
     "metadata": {},
     "output_type": "display_data"
    },
    {
     "data": {
      "image/png": "[encoded data removed]",
      "text/plain": [
       "<Figure size 432x288 with 1 Axes>"
      ]
     },
     "metadata": {},
     "output_type": "display_data"
    }
   ],
   "source": [
    "acc = history.history['acc']\n",
    "val_acc = history.history['val_acc']\n",
    "loss = history.history['loss']\n",
    "val_loss = history.history['val_loss']\n",
    "\n",
    "epochs = range(len(acc))\n",
    "\n",
    "plt.plot(epochs, acc, 'bo', label='Training acc')\n",
    "plt.plot(epochs, val_acc, 'b', label='Validation acc')\n",
    "plt.title('Training and validation accuracy')\n",
    "plt.legend()\n",
    "\n",
    "plt.figure()\n",
    "\n",
    "plt.plot(epochs, loss, 'bo', label='Training loss')\n",
    "plt.plot(epochs, val_loss, 'b', label='Validation loss')\n",
    "plt.title('Training and validation loss')\n",
    "plt.legend()\n",
    "\n",
    "plt.show()"
   ]
  }
 ],
 "metadata": {
  "kernelspec": {
   "display_name": "Python 3",
   "language": "python",
   "name": "python3"
  },
  "language_info": {
   "codemirror_mode": {
    "name": "ipython",
    "version": 3
   },
   "file_extension": ".py",
   "mimetype": "text/x-python",
   "name": "python",
   "nbconvert_exporter": "python",
   "pygments_lexer": "ipython3",
   "version": "3.5.2"
  }
 },
 "nbformat": 4,
 "nbformat_minor": 2
}
